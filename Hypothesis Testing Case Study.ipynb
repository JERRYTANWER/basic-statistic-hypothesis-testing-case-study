{
 "cells": [
  {
   "cell_type": "code",
   "execution_count": 1,
   "id": "cf8c4b83",
   "metadata": {},
   "outputs": [],
   "source": [
    "import pandas as pd\n",
    "import numpy as np\n",
    "import matplotlib.pyplot as plt\n",
    "import seaborn as sns\n",
    "import datetime as dt"
   ]
  },
  {
   "cell_type": "code",
   "execution_count": 2,
   "id": "a3a7a5f7",
   "metadata": {},
   "outputs": [],
   "source": [
    "# for hypothesis testing\n",
    "import scipy.stats as stats"
   ]
  },
  {
   "cell_type": "markdown",
   "id": "75a0cb2a",
   "metadata": {},
   "source": [
    "# BUSINESS PROBLEM-1"
   ]
  },
  {
   "cell_type": "code",
   "execution_count": 3,
   "id": "ec00b901",
   "metadata": {},
   "outputs": [],
   "source": [
    "loan=pd.read_csv('LoansData.csv')"
   ]
  },
  {
   "cell_type": "code",
   "execution_count": 4,
   "id": "bcb4cfb1",
   "metadata": {},
   "outputs": [
    {
     "data": {
      "text/html": [
       "<div>\n",
       "<style scoped>\n",
       "    .dataframe tbody tr th:only-of-type {\n",
       "        vertical-align: middle;\n",
       "    }\n",
       "\n",
       "    .dataframe tbody tr th {\n",
       "        vertical-align: top;\n",
       "    }\n",
       "\n",
       "    .dataframe thead th {\n",
       "        text-align: right;\n",
       "    }\n",
       "</style>\n",
       "<table border=\"1\" class=\"dataframe\">\n",
       "  <thead>\n",
       "    <tr style=\"text-align: right;\">\n",
       "      <th></th>\n",
       "      <th>Amount.Requested</th>\n",
       "      <th>Amount.Funded.By.Investors</th>\n",
       "      <th>Interest.Rate</th>\n",
       "      <th>Loan.Length</th>\n",
       "      <th>Loan.Purpose</th>\n",
       "      <th>Debt.To.Income.Ratio</th>\n",
       "      <th>State</th>\n",
       "      <th>Home.Ownership</th>\n",
       "      <th>Monthly.Income</th>\n",
       "      <th>FICO.Range</th>\n",
       "      <th>Open.CREDIT.Lines</th>\n",
       "      <th>Revolving.CREDIT.Balance</th>\n",
       "      <th>Inquiries.in.the.Last.6.Months</th>\n",
       "      <th>Employment.Length</th>\n",
       "    </tr>\n",
       "  </thead>\n",
       "  <tbody>\n",
       "    <tr>\n",
       "      <th>0</th>\n",
       "      <td>20000.0</td>\n",
       "      <td>20000.0</td>\n",
       "      <td>8.90%</td>\n",
       "      <td>36 months</td>\n",
       "      <td>debt_consolidation</td>\n",
       "      <td>14.90%</td>\n",
       "      <td>SC</td>\n",
       "      <td>MORTGAGE</td>\n",
       "      <td>6541.67</td>\n",
       "      <td>735-739</td>\n",
       "      <td>14.0</td>\n",
       "      <td>14272.0</td>\n",
       "      <td>2.0</td>\n",
       "      <td>&lt; 1 year</td>\n",
       "    </tr>\n",
       "    <tr>\n",
       "      <th>1</th>\n",
       "      <td>19200.0</td>\n",
       "      <td>19200.0</td>\n",
       "      <td>12.12%</td>\n",
       "      <td>36 months</td>\n",
       "      <td>debt_consolidation</td>\n",
       "      <td>28.36%</td>\n",
       "      <td>TX</td>\n",
       "      <td>MORTGAGE</td>\n",
       "      <td>4583.33</td>\n",
       "      <td>715-719</td>\n",
       "      <td>12.0</td>\n",
       "      <td>11140.0</td>\n",
       "      <td>1.0</td>\n",
       "      <td>2 years</td>\n",
       "    </tr>\n",
       "    <tr>\n",
       "      <th>2</th>\n",
       "      <td>35000.0</td>\n",
       "      <td>35000.0</td>\n",
       "      <td>21.98%</td>\n",
       "      <td>60 months</td>\n",
       "      <td>debt_consolidation</td>\n",
       "      <td>23.81%</td>\n",
       "      <td>CA</td>\n",
       "      <td>MORTGAGE</td>\n",
       "      <td>11500.00</td>\n",
       "      <td>690-694</td>\n",
       "      <td>14.0</td>\n",
       "      <td>21977.0</td>\n",
       "      <td>1.0</td>\n",
       "      <td>2 years</td>\n",
       "    </tr>\n",
       "    <tr>\n",
       "      <th>3</th>\n",
       "      <td>10000.0</td>\n",
       "      <td>9975.0</td>\n",
       "      <td>9.99%</td>\n",
       "      <td>36 months</td>\n",
       "      <td>debt_consolidation</td>\n",
       "      <td>14.30%</td>\n",
       "      <td>KS</td>\n",
       "      <td>MORTGAGE</td>\n",
       "      <td>3833.33</td>\n",
       "      <td>695-699</td>\n",
       "      <td>10.0</td>\n",
       "      <td>9346.0</td>\n",
       "      <td>0.0</td>\n",
       "      <td>5 years</td>\n",
       "    </tr>\n",
       "    <tr>\n",
       "      <th>4</th>\n",
       "      <td>12000.0</td>\n",
       "      <td>12000.0</td>\n",
       "      <td>11.71%</td>\n",
       "      <td>36 months</td>\n",
       "      <td>credit_card</td>\n",
       "      <td>18.78%</td>\n",
       "      <td>NJ</td>\n",
       "      <td>RENT</td>\n",
       "      <td>3195.00</td>\n",
       "      <td>695-699</td>\n",
       "      <td>11.0</td>\n",
       "      <td>14469.0</td>\n",
       "      <td>0.0</td>\n",
       "      <td>9 years</td>\n",
       "    </tr>\n",
       "  </tbody>\n",
       "</table>\n",
       "</div>"
      ],
      "text/plain": [
       "   Amount.Requested  Amount.Funded.By.Investors Interest.Rate Loan.Length  \\\n",
       "0           20000.0                     20000.0         8.90%   36 months   \n",
       "1           19200.0                     19200.0        12.12%   36 months   \n",
       "2           35000.0                     35000.0        21.98%   60 months   \n",
       "3           10000.0                      9975.0         9.99%   36 months   \n",
       "4           12000.0                     12000.0        11.71%   36 months   \n",
       "\n",
       "         Loan.Purpose Debt.To.Income.Ratio State Home.Ownership  \\\n",
       "0  debt_consolidation               14.90%    SC       MORTGAGE   \n",
       "1  debt_consolidation               28.36%    TX       MORTGAGE   \n",
       "2  debt_consolidation               23.81%    CA       MORTGAGE   \n",
       "3  debt_consolidation               14.30%    KS       MORTGAGE   \n",
       "4         credit_card               18.78%    NJ           RENT   \n",
       "\n",
       "   Monthly.Income FICO.Range  Open.CREDIT.Lines  Revolving.CREDIT.Balance  \\\n",
       "0         6541.67    735-739               14.0                   14272.0   \n",
       "1         4583.33    715-719               12.0                   11140.0   \n",
       "2        11500.00    690-694               14.0                   21977.0   \n",
       "3         3833.33    695-699               10.0                    9346.0   \n",
       "4         3195.00    695-699               11.0                   14469.0   \n",
       "\n",
       "   Inquiries.in.the.Last.6.Months Employment.Length  \n",
       "0                             2.0          < 1 year  \n",
       "1                             1.0           2 years  \n",
       "2                             1.0           2 years  \n",
       "3                             0.0           5 years  \n",
       "4                             0.0           9 years  "
      ]
     },
     "execution_count": 4,
     "metadata": {},
     "output_type": "execute_result"
    }
   ],
   "source": [
    "loan.head()"
   ]
  },
  {
   "cell_type": "code",
   "execution_count": 5,
   "id": "9a9514b7",
   "metadata": {},
   "outputs": [
    {
     "name": "stdout",
     "output_type": "stream",
     "text": [
      "<class 'pandas.core.frame.DataFrame'>\n",
      "RangeIndex: 2500 entries, 0 to 2499\n",
      "Data columns (total 14 columns):\n",
      " #   Column                          Non-Null Count  Dtype  \n",
      "---  ------                          --------------  -----  \n",
      " 0   Amount.Requested                2499 non-null   float64\n",
      " 1   Amount.Funded.By.Investors      2499 non-null   float64\n",
      " 2   Interest.Rate                   2498 non-null   object \n",
      " 3   Loan.Length                     2500 non-null   object \n",
      " 4   Loan.Purpose                    2500 non-null   object \n",
      " 5   Debt.To.Income.Ratio            2499 non-null   object \n",
      " 6   State                           2500 non-null   object \n",
      " 7   Home.Ownership                  2499 non-null   object \n",
      " 8   Monthly.Income                  2499 non-null   float64\n",
      " 9   FICO.Range                      2498 non-null   object \n",
      " 10  Open.CREDIT.Lines               2497 non-null   float64\n",
      " 11  Revolving.CREDIT.Balance        2497 non-null   float64\n",
      " 12  Inquiries.in.the.Last.6.Months  2497 non-null   float64\n",
      " 13  Employment.Length               2423 non-null   object \n",
      "dtypes: float64(6), object(8)\n",
      "memory usage: 273.6+ KB\n"
     ]
    }
   ],
   "source": [
    "loan.info()"
   ]
  },
  {
   "cell_type": "code",
   "execution_count": 6,
   "id": "315e1cc0",
   "metadata": {},
   "outputs": [
    {
     "data": {
      "text/plain": [
       "35000"
      ]
     },
     "execution_count": 6,
     "metadata": {},
     "output_type": "execute_result"
    }
   ],
   "source": [
    "loan.size"
   ]
  },
  {
   "cell_type": "code",
   "execution_count": 7,
   "id": "207c5608",
   "metadata": {},
   "outputs": [
    {
     "data": {
      "text/plain": [
       "Amount.Requested                   1\n",
       "Amount.Funded.By.Investors         1\n",
       "Interest.Rate                      2\n",
       "Loan.Length                        0\n",
       "Loan.Purpose                       0\n",
       "Debt.To.Income.Ratio               1\n",
       "State                              0\n",
       "Home.Ownership                     1\n",
       "Monthly.Income                     1\n",
       "FICO.Range                         2\n",
       "Open.CREDIT.Lines                  3\n",
       "Revolving.CREDIT.Balance           3\n",
       "Inquiries.in.the.Last.6.Months     3\n",
       "Employment.Length                 77\n",
       "dtype: int64"
      ]
     },
     "execution_count": 7,
     "metadata": {},
     "output_type": "execute_result"
    }
   ],
   "source": [
    "loan.isnull().sum()"
   ]
  },
  {
   "cell_type": "code",
   "execution_count": 8,
   "id": "6969402b",
   "metadata": {},
   "outputs": [
    {
     "data": {
      "text/html": [
       "<div>\n",
       "<style scoped>\n",
       "    .dataframe tbody tr th:only-of-type {\n",
       "        vertical-align: middle;\n",
       "    }\n",
       "\n",
       "    .dataframe tbody tr th {\n",
       "        vertical-align: top;\n",
       "    }\n",
       "\n",
       "    .dataframe thead th {\n",
       "        text-align: right;\n",
       "    }\n",
       "</style>\n",
       "<table border=\"1\" class=\"dataframe\">\n",
       "  <thead>\n",
       "    <tr style=\"text-align: right;\">\n",
       "      <th></th>\n",
       "      <th>Amount_Requested</th>\n",
       "      <th>Amount_Funded_By_Investors</th>\n",
       "      <th>Interest_Rate</th>\n",
       "      <th>Loan_Length</th>\n",
       "      <th>Loan_Purpose</th>\n",
       "      <th>Debt_To_Income_Ratio</th>\n",
       "      <th>State</th>\n",
       "      <th>Home_Ownership</th>\n",
       "      <th>Monthly_Income</th>\n",
       "      <th>FICO_Range</th>\n",
       "      <th>Open_CREDIT_Lines</th>\n",
       "      <th>Revolving_CREDIT_Balance</th>\n",
       "      <th>Inquiries_in_the_Last_6_Months</th>\n",
       "      <th>Employment_Length</th>\n",
       "    </tr>\n",
       "  </thead>\n",
       "  <tbody>\n",
       "    <tr>\n",
       "      <th>0</th>\n",
       "      <td>20000.0</td>\n",
       "      <td>20000.0</td>\n",
       "      <td>8.90%</td>\n",
       "      <td>36 months</td>\n",
       "      <td>debt_consolidation</td>\n",
       "      <td>14.90%</td>\n",
       "      <td>SC</td>\n",
       "      <td>MORTGAGE</td>\n",
       "      <td>6541.67</td>\n",
       "      <td>735-739</td>\n",
       "      <td>14.0</td>\n",
       "      <td>14272.0</td>\n",
       "      <td>2.0</td>\n",
       "      <td>&lt; 1 year</td>\n",
       "    </tr>\n",
       "    <tr>\n",
       "      <th>1</th>\n",
       "      <td>19200.0</td>\n",
       "      <td>19200.0</td>\n",
       "      <td>12.12%</td>\n",
       "      <td>36 months</td>\n",
       "      <td>debt_consolidation</td>\n",
       "      <td>28.36%</td>\n",
       "      <td>TX</td>\n",
       "      <td>MORTGAGE</td>\n",
       "      <td>4583.33</td>\n",
       "      <td>715-719</td>\n",
       "      <td>12.0</td>\n",
       "      <td>11140.0</td>\n",
       "      <td>1.0</td>\n",
       "      <td>2 years</td>\n",
       "    </tr>\n",
       "    <tr>\n",
       "      <th>2</th>\n",
       "      <td>35000.0</td>\n",
       "      <td>35000.0</td>\n",
       "      <td>21.98%</td>\n",
       "      <td>60 months</td>\n",
       "      <td>debt_consolidation</td>\n",
       "      <td>23.81%</td>\n",
       "      <td>CA</td>\n",
       "      <td>MORTGAGE</td>\n",
       "      <td>11500.00</td>\n",
       "      <td>690-694</td>\n",
       "      <td>14.0</td>\n",
       "      <td>21977.0</td>\n",
       "      <td>1.0</td>\n",
       "      <td>2 years</td>\n",
       "    </tr>\n",
       "    <tr>\n",
       "      <th>3</th>\n",
       "      <td>10000.0</td>\n",
       "      <td>9975.0</td>\n",
       "      <td>9.99%</td>\n",
       "      <td>36 months</td>\n",
       "      <td>debt_consolidation</td>\n",
       "      <td>14.30%</td>\n",
       "      <td>KS</td>\n",
       "      <td>MORTGAGE</td>\n",
       "      <td>3833.33</td>\n",
       "      <td>695-699</td>\n",
       "      <td>10.0</td>\n",
       "      <td>9346.0</td>\n",
       "      <td>0.0</td>\n",
       "      <td>5 years</td>\n",
       "    </tr>\n",
       "    <tr>\n",
       "      <th>4</th>\n",
       "      <td>12000.0</td>\n",
       "      <td>12000.0</td>\n",
       "      <td>11.71%</td>\n",
       "      <td>36 months</td>\n",
       "      <td>credit_card</td>\n",
       "      <td>18.78%</td>\n",
       "      <td>NJ</td>\n",
       "      <td>RENT</td>\n",
       "      <td>3195.00</td>\n",
       "      <td>695-699</td>\n",
       "      <td>11.0</td>\n",
       "      <td>14469.0</td>\n",
       "      <td>0.0</td>\n",
       "      <td>9 years</td>\n",
       "    </tr>\n",
       "  </tbody>\n",
       "</table>\n",
       "</div>"
      ],
      "text/plain": [
       "   Amount_Requested  Amount_Funded_By_Investors Interest_Rate Loan_Length  \\\n",
       "0           20000.0                     20000.0         8.90%   36 months   \n",
       "1           19200.0                     19200.0        12.12%   36 months   \n",
       "2           35000.0                     35000.0        21.98%   60 months   \n",
       "3           10000.0                      9975.0         9.99%   36 months   \n",
       "4           12000.0                     12000.0        11.71%   36 months   \n",
       "\n",
       "         Loan_Purpose Debt_To_Income_Ratio State Home_Ownership  \\\n",
       "0  debt_consolidation               14.90%    SC       MORTGAGE   \n",
       "1  debt_consolidation               28.36%    TX       MORTGAGE   \n",
       "2  debt_consolidation               23.81%    CA       MORTGAGE   \n",
       "3  debt_consolidation               14.30%    KS       MORTGAGE   \n",
       "4         credit_card               18.78%    NJ           RENT   \n",
       "\n",
       "   Monthly_Income FICO_Range  Open_CREDIT_Lines  Revolving_CREDIT_Balance  \\\n",
       "0         6541.67    735-739               14.0                   14272.0   \n",
       "1         4583.33    715-719               12.0                   11140.0   \n",
       "2        11500.00    690-694               14.0                   21977.0   \n",
       "3         3833.33    695-699               10.0                    9346.0   \n",
       "4         3195.00    695-699               11.0                   14469.0   \n",
       "\n",
       "   Inquiries_in_the_Last_6_Months Employment_Length  \n",
       "0                             2.0          < 1 year  \n",
       "1                             1.0           2 years  \n",
       "2                             1.0           2 years  \n",
       "3                             0.0           5 years  \n",
       "4                             0.0           9 years  "
      ]
     },
     "execution_count": 8,
     "metadata": {},
     "output_type": "execute_result"
    }
   ],
   "source": [
    "loan.columns=loan.columns.str.replace('.','_')\n",
    "loan.head()"
   ]
  },
  {
   "cell_type": "code",
   "execution_count": 9,
   "id": "03055532",
   "metadata": {},
   "outputs": [],
   "source": [
    "loan.Interest_Rate=loan.Interest_Rate.str.replace('%','')"
   ]
  },
  {
   "cell_type": "code",
   "execution_count": 10,
   "id": "88581f20",
   "metadata": {},
   "outputs": [],
   "source": [
    "loan.Debt_To_Income_Ratio=loan.Debt_To_Income_Ratio.str.replace('%','')"
   ]
  },
  {
   "cell_type": "code",
   "execution_count": 11,
   "id": "a6134e00",
   "metadata": {},
   "outputs": [
    {
     "data": {
      "text/html": [
       "<div>\n",
       "<style scoped>\n",
       "    .dataframe tbody tr th:only-of-type {\n",
       "        vertical-align: middle;\n",
       "    }\n",
       "\n",
       "    .dataframe tbody tr th {\n",
       "        vertical-align: top;\n",
       "    }\n",
       "\n",
       "    .dataframe thead th {\n",
       "        text-align: right;\n",
       "    }\n",
       "</style>\n",
       "<table border=\"1\" class=\"dataframe\">\n",
       "  <thead>\n",
       "    <tr style=\"text-align: right;\">\n",
       "      <th></th>\n",
       "      <th>Amount_Requested</th>\n",
       "      <th>Amount_Funded_By_Investors</th>\n",
       "      <th>Interest_Rate</th>\n",
       "      <th>Loan_Length</th>\n",
       "      <th>Loan_Purpose</th>\n",
       "      <th>Debt_To_Income_Ratio</th>\n",
       "      <th>State</th>\n",
       "      <th>Home_Ownership</th>\n",
       "      <th>Monthly_Income</th>\n",
       "      <th>FICO_Range</th>\n",
       "      <th>Open_CREDIT_Lines</th>\n",
       "      <th>Revolving_CREDIT_Balance</th>\n",
       "      <th>Inquiries_in_the_Last_6_Months</th>\n",
       "      <th>Employment_Length</th>\n",
       "    </tr>\n",
       "  </thead>\n",
       "  <tbody>\n",
       "    <tr>\n",
       "      <th>0</th>\n",
       "      <td>20000.0</td>\n",
       "      <td>20000.0</td>\n",
       "      <td>8.90</td>\n",
       "      <td>36 months</td>\n",
       "      <td>debt_consolidation</td>\n",
       "      <td>14.90</td>\n",
       "      <td>SC</td>\n",
       "      <td>MORTGAGE</td>\n",
       "      <td>6541.67</td>\n",
       "      <td>735-739</td>\n",
       "      <td>14.0</td>\n",
       "      <td>14272.0</td>\n",
       "      <td>2.0</td>\n",
       "      <td>&lt; 1 year</td>\n",
       "    </tr>\n",
       "    <tr>\n",
       "      <th>1</th>\n",
       "      <td>19200.0</td>\n",
       "      <td>19200.0</td>\n",
       "      <td>12.12</td>\n",
       "      <td>36 months</td>\n",
       "      <td>debt_consolidation</td>\n",
       "      <td>28.36</td>\n",
       "      <td>TX</td>\n",
       "      <td>MORTGAGE</td>\n",
       "      <td>4583.33</td>\n",
       "      <td>715-719</td>\n",
       "      <td>12.0</td>\n",
       "      <td>11140.0</td>\n",
       "      <td>1.0</td>\n",
       "      <td>2 years</td>\n",
       "    </tr>\n",
       "    <tr>\n",
       "      <th>2</th>\n",
       "      <td>35000.0</td>\n",
       "      <td>35000.0</td>\n",
       "      <td>21.98</td>\n",
       "      <td>60 months</td>\n",
       "      <td>debt_consolidation</td>\n",
       "      <td>23.81</td>\n",
       "      <td>CA</td>\n",
       "      <td>MORTGAGE</td>\n",
       "      <td>11500.00</td>\n",
       "      <td>690-694</td>\n",
       "      <td>14.0</td>\n",
       "      <td>21977.0</td>\n",
       "      <td>1.0</td>\n",
       "      <td>2 years</td>\n",
       "    </tr>\n",
       "    <tr>\n",
       "      <th>3</th>\n",
       "      <td>10000.0</td>\n",
       "      <td>9975.0</td>\n",
       "      <td>9.99</td>\n",
       "      <td>36 months</td>\n",
       "      <td>debt_consolidation</td>\n",
       "      <td>14.30</td>\n",
       "      <td>KS</td>\n",
       "      <td>MORTGAGE</td>\n",
       "      <td>3833.33</td>\n",
       "      <td>695-699</td>\n",
       "      <td>10.0</td>\n",
       "      <td>9346.0</td>\n",
       "      <td>0.0</td>\n",
       "      <td>5 years</td>\n",
       "    </tr>\n",
       "    <tr>\n",
       "      <th>4</th>\n",
       "      <td>12000.0</td>\n",
       "      <td>12000.0</td>\n",
       "      <td>11.71</td>\n",
       "      <td>36 months</td>\n",
       "      <td>credit_card</td>\n",
       "      <td>18.78</td>\n",
       "      <td>NJ</td>\n",
       "      <td>RENT</td>\n",
       "      <td>3195.00</td>\n",
       "      <td>695-699</td>\n",
       "      <td>11.0</td>\n",
       "      <td>14469.0</td>\n",
       "      <td>0.0</td>\n",
       "      <td>9 years</td>\n",
       "    </tr>\n",
       "  </tbody>\n",
       "</table>\n",
       "</div>"
      ],
      "text/plain": [
       "   Amount_Requested  Amount_Funded_By_Investors Interest_Rate Loan_Length  \\\n",
       "0           20000.0                     20000.0          8.90   36 months   \n",
       "1           19200.0                     19200.0         12.12   36 months   \n",
       "2           35000.0                     35000.0         21.98   60 months   \n",
       "3           10000.0                      9975.0          9.99   36 months   \n",
       "4           12000.0                     12000.0         11.71   36 months   \n",
       "\n",
       "         Loan_Purpose Debt_To_Income_Ratio State Home_Ownership  \\\n",
       "0  debt_consolidation                14.90    SC       MORTGAGE   \n",
       "1  debt_consolidation                28.36    TX       MORTGAGE   \n",
       "2  debt_consolidation                23.81    CA       MORTGAGE   \n",
       "3  debt_consolidation                14.30    KS       MORTGAGE   \n",
       "4         credit_card                18.78    NJ           RENT   \n",
       "\n",
       "   Monthly_Income FICO_Range  Open_CREDIT_Lines  Revolving_CREDIT_Balance  \\\n",
       "0         6541.67    735-739               14.0                   14272.0   \n",
       "1         4583.33    715-719               12.0                   11140.0   \n",
       "2        11500.00    690-694               14.0                   21977.0   \n",
       "3         3833.33    695-699               10.0                    9346.0   \n",
       "4         3195.00    695-699               11.0                   14469.0   \n",
       "\n",
       "   Inquiries_in_the_Last_6_Months Employment_Length  \n",
       "0                             2.0          < 1 year  \n",
       "1                             1.0           2 years  \n",
       "2                             1.0           2 years  \n",
       "3                             0.0           5 years  \n",
       "4                             0.0           9 years  "
      ]
     },
     "execution_count": 11,
     "metadata": {},
     "output_type": "execute_result"
    }
   ],
   "source": [
    "loan.head()"
   ]
  },
  {
   "cell_type": "code",
   "execution_count": 12,
   "id": "7e0ed79e",
   "metadata": {},
   "outputs": [
    {
     "data": {
      "text/plain": [
       "Amount_Requested                  float64\n",
       "Amount_Funded_By_Investors        float64\n",
       "Interest_Rate                      object\n",
       "Loan_Length                        object\n",
       "Loan_Purpose                       object\n",
       "Debt_To_Income_Ratio               object\n",
       "State                              object\n",
       "Home_Ownership                     object\n",
       "Monthly_Income                    float64\n",
       "FICO_Range                         object\n",
       "Open_CREDIT_Lines                 float64\n",
       "Revolving_CREDIT_Balance          float64\n",
       "Inquiries_in_the_Last_6_Months    float64\n",
       "Employment_Length                  object\n",
       "dtype: object"
      ]
     },
     "execution_count": 12,
     "metadata": {},
     "output_type": "execute_result"
    }
   ],
   "source": [
    "loan.dtypes"
   ]
  },
  {
   "cell_type": "code",
   "execution_count": 13,
   "id": "6f07f593",
   "metadata": {},
   "outputs": [],
   "source": [
    "loan.Interest_Rate = pd.to_numeric(loan.Interest_Rate)"
   ]
  },
  {
   "cell_type": "code",
   "execution_count": 14,
   "id": "8217e472",
   "metadata": {},
   "outputs": [],
   "source": [
    "loan.Debt_To_Income_Ratio = pd.to_numeric(loan.Debt_To_Income_Ratio)"
   ]
  },
  {
   "cell_type": "code",
   "execution_count": 15,
   "id": "b2b169b7",
   "metadata": {},
   "outputs": [
    {
     "data": {
      "text/html": [
       "<div>\n",
       "<style scoped>\n",
       "    .dataframe tbody tr th:only-of-type {\n",
       "        vertical-align: middle;\n",
       "    }\n",
       "\n",
       "    .dataframe tbody tr th {\n",
       "        vertical-align: top;\n",
       "    }\n",
       "\n",
       "    .dataframe thead th {\n",
       "        text-align: right;\n",
       "    }\n",
       "</style>\n",
       "<table border=\"1\" class=\"dataframe\">\n",
       "  <thead>\n",
       "    <tr style=\"text-align: right;\">\n",
       "      <th></th>\n",
       "      <th>Amount_Requested</th>\n",
       "      <th>Amount_Funded_By_Investors</th>\n",
       "      <th>Interest_Rate</th>\n",
       "      <th>Debt_To_Income_Ratio</th>\n",
       "      <th>Monthly_Income</th>\n",
       "      <th>Open_CREDIT_Lines</th>\n",
       "      <th>Revolving_CREDIT_Balance</th>\n",
       "      <th>Inquiries_in_the_Last_6_Months</th>\n",
       "    </tr>\n",
       "  </thead>\n",
       "  <tbody>\n",
       "    <tr>\n",
       "      <th>count</th>\n",
       "      <td>2499.000000</td>\n",
       "      <td>2499.000000</td>\n",
       "      <td>2498.000000</td>\n",
       "      <td>2499.000000</td>\n",
       "      <td>2499.000000</td>\n",
       "      <td>2497.000000</td>\n",
       "      <td>2497.000000</td>\n",
       "      <td>2497.000000</td>\n",
       "    </tr>\n",
       "    <tr>\n",
       "      <th>mean</th>\n",
       "      <td>12405.462185</td>\n",
       "      <td>12002.374186</td>\n",
       "      <td>13.065388</td>\n",
       "      <td>15.380420</td>\n",
       "      <td>5688.931321</td>\n",
       "      <td>10.072887</td>\n",
       "      <td>15223.184622</td>\n",
       "      <td>0.906688</td>\n",
       "    </tr>\n",
       "    <tr>\n",
       "      <th>std</th>\n",
       "      <td>7802.933666</td>\n",
       "      <td>7746.767348</td>\n",
       "      <td>4.177201</td>\n",
       "      <td>7.505052</td>\n",
       "      <td>3963.118185</td>\n",
       "      <td>4.507416</td>\n",
       "      <td>18281.015258</td>\n",
       "      <td>1.231149</td>\n",
       "    </tr>\n",
       "    <tr>\n",
       "      <th>min</th>\n",
       "      <td>1000.000000</td>\n",
       "      <td>-0.010000</td>\n",
       "      <td>5.420000</td>\n",
       "      <td>0.000000</td>\n",
       "      <td>588.500000</td>\n",
       "      <td>2.000000</td>\n",
       "      <td>0.000000</td>\n",
       "      <td>0.000000</td>\n",
       "    </tr>\n",
       "    <tr>\n",
       "      <th>0%</th>\n",
       "      <td>1000.000000</td>\n",
       "      <td>-0.010000</td>\n",
       "      <td>5.420000</td>\n",
       "      <td>0.000000</td>\n",
       "      <td>588.500000</td>\n",
       "      <td>2.000000</td>\n",
       "      <td>0.000000</td>\n",
       "      <td>0.000000</td>\n",
       "    </tr>\n",
       "    <tr>\n",
       "      <th>10%</th>\n",
       "      <td>4000.000000</td>\n",
       "      <td>3600.000000</td>\n",
       "      <td>7.620000</td>\n",
       "      <td>5.308000</td>\n",
       "      <td>2600.000000</td>\n",
       "      <td>5.000000</td>\n",
       "      <td>2298.800000</td>\n",
       "      <td>0.000000</td>\n",
       "    </tr>\n",
       "    <tr>\n",
       "      <th>20%</th>\n",
       "      <td>5440.000000</td>\n",
       "      <td>5000.000000</td>\n",
       "      <td>8.900000</td>\n",
       "      <td>8.516000</td>\n",
       "      <td>3250.000000</td>\n",
       "      <td>6.000000</td>\n",
       "      <td>4641.600000</td>\n",
       "      <td>0.000000</td>\n",
       "    </tr>\n",
       "    <tr>\n",
       "      <th>30%</th>\n",
       "      <td>7170.000000</td>\n",
       "      <td>6975.000000</td>\n",
       "      <td>10.740000</td>\n",
       "      <td>11.030000</td>\n",
       "      <td>3750.000000</td>\n",
       "      <td>7.000000</td>\n",
       "      <td>6560.800000</td>\n",
       "      <td>0.000000</td>\n",
       "    </tr>\n",
       "    <tr>\n",
       "      <th>40%</th>\n",
       "      <td>9000.000000</td>\n",
       "      <td>8799.232000</td>\n",
       "      <td>12.120000</td>\n",
       "      <td>13.182000</td>\n",
       "      <td>4333.330000</td>\n",
       "      <td>8.000000</td>\n",
       "      <td>8575.800000</td>\n",
       "      <td>0.000000</td>\n",
       "    </tr>\n",
       "    <tr>\n",
       "      <th>50%</th>\n",
       "      <td>10000.000000</td>\n",
       "      <td>10000.000000</td>\n",
       "      <td>13.110000</td>\n",
       "      <td>15.320000</td>\n",
       "      <td>5000.000000</td>\n",
       "      <td>9.000000</td>\n",
       "      <td>10948.000000</td>\n",
       "      <td>0.000000</td>\n",
       "    </tr>\n",
       "    <tr>\n",
       "      <th>60%</th>\n",
       "      <td>12000.000000</td>\n",
       "      <td>12000.000000</td>\n",
       "      <td>14.090000</td>\n",
       "      <td>17.306000</td>\n",
       "      <td>5441.484000</td>\n",
       "      <td>11.000000</td>\n",
       "      <td>13482.000000</td>\n",
       "      <td>1.000000</td>\n",
       "    </tr>\n",
       "    <tr>\n",
       "      <th>70%</th>\n",
       "      <td>15000.000000</td>\n",
       "      <td>15000.000000</td>\n",
       "      <td>15.270000</td>\n",
       "      <td>19.470000</td>\n",
       "      <td>6250.000000</td>\n",
       "      <td>12.000000</td>\n",
       "      <td>16651.600000</td>\n",
       "      <td>1.000000</td>\n",
       "    </tr>\n",
       "    <tr>\n",
       "      <th>80%</th>\n",
       "      <td>19200.000000</td>\n",
       "      <td>18050.796000</td>\n",
       "      <td>16.490000</td>\n",
       "      <td>21.880000</td>\n",
       "      <td>7500.000000</td>\n",
       "      <td>14.000000</td>\n",
       "      <td>21510.800000</td>\n",
       "      <td>2.000000</td>\n",
       "    </tr>\n",
       "    <tr>\n",
       "      <th>90%</th>\n",
       "      <td>24000.000000</td>\n",
       "      <td>23950.000000</td>\n",
       "      <td>18.640000</td>\n",
       "      <td>25.014000</td>\n",
       "      <td>9297.330000</td>\n",
       "      <td>16.000000</td>\n",
       "      <td>30047.000000</td>\n",
       "      <td>3.000000</td>\n",
       "    </tr>\n",
       "    <tr>\n",
       "      <th>max</th>\n",
       "      <td>35000.000000</td>\n",
       "      <td>35000.000000</td>\n",
       "      <td>24.890000</td>\n",
       "      <td>34.910000</td>\n",
       "      <td>102750.000000</td>\n",
       "      <td>38.000000</td>\n",
       "      <td>270800.000000</td>\n",
       "      <td>9.000000</td>\n",
       "    </tr>\n",
       "  </tbody>\n",
       "</table>\n",
       "</div>"
      ],
      "text/plain": [
       "       Amount_Requested  Amount_Funded_By_Investors  Interest_Rate  \\\n",
       "count       2499.000000                 2499.000000    2498.000000   \n",
       "mean       12405.462185                12002.374186      13.065388   \n",
       "std         7802.933666                 7746.767348       4.177201   \n",
       "min         1000.000000                   -0.010000       5.420000   \n",
       "0%          1000.000000                   -0.010000       5.420000   \n",
       "10%         4000.000000                 3600.000000       7.620000   \n",
       "20%         5440.000000                 5000.000000       8.900000   \n",
       "30%         7170.000000                 6975.000000      10.740000   \n",
       "40%         9000.000000                 8799.232000      12.120000   \n",
       "50%        10000.000000                10000.000000      13.110000   \n",
       "60%        12000.000000                12000.000000      14.090000   \n",
       "70%        15000.000000                15000.000000      15.270000   \n",
       "80%        19200.000000                18050.796000      16.490000   \n",
       "90%        24000.000000                23950.000000      18.640000   \n",
       "max        35000.000000                35000.000000      24.890000   \n",
       "\n",
       "       Debt_To_Income_Ratio  Monthly_Income  Open_CREDIT_Lines  \\\n",
       "count           2499.000000     2499.000000        2497.000000   \n",
       "mean              15.380420     5688.931321          10.072887   \n",
       "std                7.505052     3963.118185           4.507416   \n",
       "min                0.000000      588.500000           2.000000   \n",
       "0%                 0.000000      588.500000           2.000000   \n",
       "10%                5.308000     2600.000000           5.000000   \n",
       "20%                8.516000     3250.000000           6.000000   \n",
       "30%               11.030000     3750.000000           7.000000   \n",
       "40%               13.182000     4333.330000           8.000000   \n",
       "50%               15.320000     5000.000000           9.000000   \n",
       "60%               17.306000     5441.484000          11.000000   \n",
       "70%               19.470000     6250.000000          12.000000   \n",
       "80%               21.880000     7500.000000          14.000000   \n",
       "90%               25.014000     9297.330000          16.000000   \n",
       "max               34.910000   102750.000000          38.000000   \n",
       "\n",
       "       Revolving_CREDIT_Balance  Inquiries_in_the_Last_6_Months  \n",
       "count               2497.000000                     2497.000000  \n",
       "mean               15223.184622                        0.906688  \n",
       "std                18281.015258                        1.231149  \n",
       "min                    0.000000                        0.000000  \n",
       "0%                     0.000000                        0.000000  \n",
       "10%                 2298.800000                        0.000000  \n",
       "20%                 4641.600000                        0.000000  \n",
       "30%                 6560.800000                        0.000000  \n",
       "40%                 8575.800000                        0.000000  \n",
       "50%                10948.000000                        0.000000  \n",
       "60%                13482.000000                        1.000000  \n",
       "70%                16651.600000                        1.000000  \n",
       "80%                21510.800000                        2.000000  \n",
       "90%                30047.000000                        3.000000  \n",
       "max               270800.000000                        9.000000  "
      ]
     },
     "execution_count": 15,
     "metadata": {},
     "output_type": "execute_result"
    }
   ],
   "source": [
    "loan.describe(percentiles=np.arange(0,1,0.1))"
   ]
  },
  {
   "cell_type": "code",
   "execution_count": 16,
   "id": "c5161e84",
   "metadata": {},
   "outputs": [],
   "source": [
    "# employment length column is not required for this problem \n",
    "loan=loan.drop(columns='Employment_Length')"
   ]
  },
  {
   "cell_type": "code",
   "execution_count": 17,
   "id": "7aa82622",
   "metadata": {},
   "outputs": [
    {
     "data": {
      "text/plain": [
       "Amount_Requested                  1\n",
       "Amount_Funded_By_Investors        1\n",
       "Interest_Rate                     2\n",
       "Loan_Length                       0\n",
       "Loan_Purpose                      0\n",
       "Debt_To_Income_Ratio              1\n",
       "State                             0\n",
       "Home_Ownership                    1\n",
       "Monthly_Income                    1\n",
       "FICO_Range                        2\n",
       "Open_CREDIT_Lines                 3\n",
       "Revolving_CREDIT_Balance          3\n",
       "Inquiries_in_the_Last_6_Months    3\n",
       "dtype: int64"
      ]
     },
     "execution_count": 17,
     "metadata": {},
     "output_type": "execute_result"
    }
   ],
   "source": [
    "loan.isna().sum()"
   ]
  },
  {
   "cell_type": "code",
   "execution_count": 177,
   "id": "2303654e-059f-45f0-a05d-eeff7ff0000a",
   "metadata": {},
   "outputs": [],
   "source": [
    "# null values count is very less ,so drop the rows with nullvalues\n",
    "loan=loan.dropna()\n",
    "loan['FICO_Score']=((loan.FICO_Range.str[0:3].astype(int))+(loan.FICO_Range.str[4:].astype(int)))/2"
   ]
  },
  {
   "cell_type": "code",
   "execution_count": 19,
   "id": "4a309338",
   "metadata": {},
   "outputs": [
    {
     "data": {
      "text/html": [
       "<div>\n",
       "<style scoped>\n",
       "    .dataframe tbody tr th:only-of-type {\n",
       "        vertical-align: middle;\n",
       "    }\n",
       "\n",
       "    .dataframe tbody tr th {\n",
       "        vertical-align: top;\n",
       "    }\n",
       "\n",
       "    .dataframe thead th {\n",
       "        text-align: right;\n",
       "    }\n",
       "</style>\n",
       "<table border=\"1\" class=\"dataframe\">\n",
       "  <thead>\n",
       "    <tr style=\"text-align: right;\">\n",
       "      <th></th>\n",
       "      <th>Amount_Requested</th>\n",
       "      <th>Amount_Funded_By_Investors</th>\n",
       "      <th>Interest_Rate</th>\n",
       "      <th>Loan_Length</th>\n",
       "      <th>Loan_Purpose</th>\n",
       "      <th>Debt_To_Income_Ratio</th>\n",
       "      <th>State</th>\n",
       "      <th>Home_Ownership</th>\n",
       "      <th>Monthly_Income</th>\n",
       "      <th>FICO_Range</th>\n",
       "      <th>Open_CREDIT_Lines</th>\n",
       "      <th>Revolving_CREDIT_Balance</th>\n",
       "      <th>Inquiries_in_the_Last_6_Months</th>\n",
       "      <th>FICO_Score</th>\n",
       "    </tr>\n",
       "  </thead>\n",
       "  <tbody>\n",
       "    <tr>\n",
       "      <th>0</th>\n",
       "      <td>20000.0</td>\n",
       "      <td>20000.0</td>\n",
       "      <td>8.90</td>\n",
       "      <td>36 months</td>\n",
       "      <td>debt_consolidation</td>\n",
       "      <td>14.90</td>\n",
       "      <td>SC</td>\n",
       "      <td>MORTGAGE</td>\n",
       "      <td>6541.67</td>\n",
       "      <td>735-739</td>\n",
       "      <td>14.0</td>\n",
       "      <td>14272.0</td>\n",
       "      <td>2.0</td>\n",
       "      <td>737.0</td>\n",
       "    </tr>\n",
       "    <tr>\n",
       "      <th>1</th>\n",
       "      <td>19200.0</td>\n",
       "      <td>19200.0</td>\n",
       "      <td>12.12</td>\n",
       "      <td>36 months</td>\n",
       "      <td>debt_consolidation</td>\n",
       "      <td>28.36</td>\n",
       "      <td>TX</td>\n",
       "      <td>MORTGAGE</td>\n",
       "      <td>4583.33</td>\n",
       "      <td>715-719</td>\n",
       "      <td>12.0</td>\n",
       "      <td>11140.0</td>\n",
       "      <td>1.0</td>\n",
       "      <td>717.0</td>\n",
       "    </tr>\n",
       "    <tr>\n",
       "      <th>2</th>\n",
       "      <td>35000.0</td>\n",
       "      <td>35000.0</td>\n",
       "      <td>21.98</td>\n",
       "      <td>60 months</td>\n",
       "      <td>debt_consolidation</td>\n",
       "      <td>23.81</td>\n",
       "      <td>CA</td>\n",
       "      <td>MORTGAGE</td>\n",
       "      <td>11500.00</td>\n",
       "      <td>690-694</td>\n",
       "      <td>14.0</td>\n",
       "      <td>21977.0</td>\n",
       "      <td>1.0</td>\n",
       "      <td>692.0</td>\n",
       "    </tr>\n",
       "    <tr>\n",
       "      <th>3</th>\n",
       "      <td>10000.0</td>\n",
       "      <td>9975.0</td>\n",
       "      <td>9.99</td>\n",
       "      <td>36 months</td>\n",
       "      <td>debt_consolidation</td>\n",
       "      <td>14.30</td>\n",
       "      <td>KS</td>\n",
       "      <td>MORTGAGE</td>\n",
       "      <td>3833.33</td>\n",
       "      <td>695-699</td>\n",
       "      <td>10.0</td>\n",
       "      <td>9346.0</td>\n",
       "      <td>0.0</td>\n",
       "      <td>697.0</td>\n",
       "    </tr>\n",
       "    <tr>\n",
       "      <th>4</th>\n",
       "      <td>12000.0</td>\n",
       "      <td>12000.0</td>\n",
       "      <td>11.71</td>\n",
       "      <td>36 months</td>\n",
       "      <td>credit_card</td>\n",
       "      <td>18.78</td>\n",
       "      <td>NJ</td>\n",
       "      <td>RENT</td>\n",
       "      <td>3195.00</td>\n",
       "      <td>695-699</td>\n",
       "      <td>11.0</td>\n",
       "      <td>14469.0</td>\n",
       "      <td>0.0</td>\n",
       "      <td>697.0</td>\n",
       "    </tr>\n",
       "  </tbody>\n",
       "</table>\n",
       "</div>"
      ],
      "text/plain": [
       "   Amount_Requested  Amount_Funded_By_Investors  Interest_Rate Loan_Length  \\\n",
       "0           20000.0                     20000.0           8.90   36 months   \n",
       "1           19200.0                     19200.0          12.12   36 months   \n",
       "2           35000.0                     35000.0          21.98   60 months   \n",
       "3           10000.0                      9975.0           9.99   36 months   \n",
       "4           12000.0                     12000.0          11.71   36 months   \n",
       "\n",
       "         Loan_Purpose  Debt_To_Income_Ratio State Home_Ownership  \\\n",
       "0  debt_consolidation                 14.90    SC       MORTGAGE   \n",
       "1  debt_consolidation                 28.36    TX       MORTGAGE   \n",
       "2  debt_consolidation                 23.81    CA       MORTGAGE   \n",
       "3  debt_consolidation                 14.30    KS       MORTGAGE   \n",
       "4         credit_card                 18.78    NJ           RENT   \n",
       "\n",
       "   Monthly_Income FICO_Range  Open_CREDIT_Lines  Revolving_CREDIT_Balance  \\\n",
       "0         6541.67    735-739               14.0                   14272.0   \n",
       "1         4583.33    715-719               12.0                   11140.0   \n",
       "2        11500.00    690-694               14.0                   21977.0   \n",
       "3         3833.33    695-699               10.0                    9346.0   \n",
       "4         3195.00    695-699               11.0                   14469.0   \n",
       "\n",
       "   Inquiries_in_the_Last_6_Months  FICO_Score  \n",
       "0                             2.0       737.0  \n",
       "1                             1.0       717.0  \n",
       "2                             1.0       692.0  \n",
       "3                             0.0       697.0  \n",
       "4                             0.0       697.0  "
      ]
     },
     "execution_count": 19,
     "metadata": {},
     "output_type": "execute_result"
    }
   ],
   "source": [
    "loan.head()"
   ]
  },
  {
   "cell_type": "markdown",
   "id": "1bfe5c68-acf9-434d-b26a-8380b42ec099",
   "metadata": {},
   "source": [
    "##### a. Interest rate is varied for different loan amounts (Less interest charged for high loan amounts)"
   ]
  },
  {
   "cell_type": "code",
   "execution_count": 21,
   "id": "051bfa1f",
   "metadata": {},
   "outputs": [],
   "source": [
    "# H0 : Interest rate is same for every loan amount\n",
    "# Ha : Interest rate is dependent on loan amount"
   ]
  },
  {
   "cell_type": "code",
   "execution_count": 22,
   "id": "5f5e2a12",
   "metadata": {},
   "outputs": [
    {
     "data": {
      "text/plain": [
       "PearsonRResult(statistic=0.33581940642785874, pvalue=1.1396807200527619e-66)"
      ]
     },
     "execution_count": 22,
     "metadata": {},
     "output_type": "execute_result"
    }
   ],
   "source": [
    "stats.pearsonr(loan.Interest_Rate,loan.Amount_Funded_By_Investors)"
   ]
  },
  {
   "cell_type": "code",
   "execution_count": 23,
   "id": "faa7ca1b",
   "metadata": {},
   "outputs": [],
   "source": [
    "# p-value = 1.13e-66 which is less than 0.05 , so we can reject null hypothesis and accept alternate \n",
    "# hypothesis. With 95 percent confidence interval, we can say that Interest rate is varied for different loan amounts."
   ]
  },
  {
   "cell_type": "markdown",
   "id": "5946587a-e8b1-4cbf-9c3a-400ff7a64b4a",
   "metadata": {},
   "source": [
    "##### b. Loan length is directly effecting intrest rate."
   ]
  },
  {
   "cell_type": "code",
   "execution_count": 25,
   "id": "3fd0a176",
   "metadata": {},
   "outputs": [],
   "source": [
    "# H0 : loan length is constant and does not vary with the interest rate\n",
    "# Ha : loan length is not constant and does not vary with the interest rate"
   ]
  },
  {
   "cell_type": "code",
   "execution_count": 26,
   "id": "4f0b9553",
   "metadata": {},
   "outputs": [
    {
     "data": {
      "text/plain": [
       "Loan_Length\n",
       "36 months    1941\n",
       "60 months     548\n",
       "Name: count, dtype: int64"
      ]
     },
     "execution_count": 26,
     "metadata": {},
     "output_type": "execute_result"
    }
   ],
   "source": [
    "loan.Loan_Length.value_counts()"
   ]
  },
  {
   "cell_type": "code",
   "execution_count": 27,
   "id": "c3ede569",
   "metadata": {},
   "outputs": [],
   "source": [
    "length_36months = loan.loc[loan['Loan_Length'] == '36 months', 'Interest_Rate']\n",
    "length_60months = loan.loc[loan['Loan_Length'] == '60 months', 'Interest_Rate']"
   ]
  },
  {
   "cell_type": "code",
   "execution_count": 28,
   "id": "0a21a48e",
   "metadata": {},
   "outputs": [
    {
     "data": {
      "text/plain": [
       "12.128907779495107"
      ]
     },
     "execution_count": 28,
     "metadata": {},
     "output_type": "execute_result"
    }
   ],
   "source": [
    "length_36months.mean()"
   ]
  },
  {
   "cell_type": "code",
   "execution_count": 29,
   "id": "14be4283",
   "metadata": {},
   "outputs": [
    {
     "data": {
      "text/plain": [
       "16.407463503649634"
      ]
     },
     "execution_count": 29,
     "metadata": {},
     "output_type": "execute_result"
    }
   ],
   "source": [
    "length_60months.mean()"
   ]
  },
  {
   "cell_type": "code",
   "execution_count": 30,
   "id": "340d2db0",
   "metadata": {},
   "outputs": [
    {
     "data": {
      "text/plain": [
       "TtestResult(statistic=23.37963620691779, pvalue=1.9132344351585912e-109, df=2487.0)"
      ]
     },
     "execution_count": 30,
     "metadata": {},
     "output_type": "execute_result"
    }
   ],
   "source": [
    "stats.ttest_ind(length_60months,length_36months)"
   ]
  },
  {
   "cell_type": "code",
   "execution_count": 31,
   "id": "cfa7d330",
   "metadata": {},
   "outputs": [],
   "source": [
    "# p-value is less than 0.05 , so we can reject null hypothesis and accept alternate hypothesis. \n",
    "# With 95 percent confidence interval,we can say that Loan length is directly effecting interest rate."
   ]
  },
  {
   "cell_type": "markdown",
   "id": "b17c36a7-6a69-4d35-aa1b-cf6264c8be5e",
   "metadata": {},
   "source": [
    "##### c. Inrest rate varies for different purpose of loans"
   ]
  },
  {
   "cell_type": "code",
   "execution_count": 33,
   "id": "21e39c6f",
   "metadata": {},
   "outputs": [
    {
     "data": {
      "text/plain": [
       "Index(['debt_consolidation', 'credit_card', 'other', 'home_improvement',\n",
       "       'major_purchase', 'small_business', 'car', 'wedding', 'medical',\n",
       "       'moving', 'vacation', 'house', 'educational', 'renewable_energy'],\n",
       "      dtype='object', name='Loan_Purpose')"
      ]
     },
     "execution_count": 33,
     "metadata": {},
     "output_type": "execute_result"
    }
   ],
   "source": [
    "loan.Loan_Purpose.value_counts().index"
   ]
  },
  {
   "cell_type": "code",
   "execution_count": 34,
   "id": "b2b80163",
   "metadata": {},
   "outputs": [
    {
     "name": "stdout",
     "output_type": "stream",
     "text": [
      "debt_consolidation: 0        8.90\n",
      "1       12.12\n",
      "2       21.98\n",
      "3        9.99\n",
      "6        7.90\n",
      "        ...  \n",
      "2481     6.62\n",
      "2485    10.75\n",
      "2495    16.77\n",
      "2497    13.99\n",
      "2499    13.79\n",
      "Name: Interest_Rate, Length: 1301, dtype: float64\n",
      "credit_card: 4       11.71\n",
      "7       17.14\n",
      "8       14.33\n",
      "9        6.91\n",
      "18       9.76\n",
      "        ...  \n",
      "2460    14.09\n",
      "2463     7.90\n",
      "2467     7.29\n",
      "2476    14.09\n",
      "2478    11.71\n",
      "Name: Interest_Rate, Length: 443, dtype: float64\n",
      "other: 5       15.31\n",
      "28       8.59\n",
      "48       7.49\n",
      "51      17.44\n",
      "57       9.99\n",
      "        ...  \n",
      "2443    14.59\n",
      "2450    14.79\n",
      "2468     7.29\n",
      "2486    17.27\n",
      "2493    23.28\n",
      "Name: Interest_Rate, Length: 199, dtype: float64\n",
      "home_improvement: 37       7.62\n",
      "39      12.49\n",
      "40      17.27\n",
      "69      14.09\n",
      "88       7.51\n",
      "        ...  \n",
      "2461     7.90\n",
      "2462    11.49\n",
      "2465     6.03\n",
      "2466    22.47\n",
      "2496    14.09\n",
      "Name: Interest_Rate, Length: 152, dtype: float64\n",
      "major_purchase: 45      11.86\n",
      "95       6.62\n",
      "152     10.75\n",
      "163     10.16\n",
      "175     10.38\n",
      "        ...  \n",
      "2421     5.79\n",
      "2432    11.49\n",
      "2473    15.13\n",
      "2475    14.09\n",
      "2498    12.42\n",
      "Name: Interest_Rate, Length: 101, dtype: float64\n",
      "small_business: 92      15.81\n",
      "104     10.65\n",
      "110      7.90\n",
      "117     14.09\n",
      "136      6.62\n",
      "        ...  \n",
      "2426    18.49\n",
      "2435    20.52\n",
      "2454    18.64\n",
      "2480     6.03\n",
      "2483    14.33\n",
      "Name: Interest_Rate, Length: 86, dtype: float64\n",
      "car: 22      17.99\n",
      "33      15.80\n",
      "35       7.90\n",
      "86       8.90\n",
      "176      7.90\n",
      "292      6.03\n",
      "346     17.04\n",
      "370     14.09\n",
      "389     14.09\n",
      "394     19.72\n",
      "418      6.91\n",
      "539      7.49\n",
      "574     10.59\n",
      "590      6.99\n",
      "638     11.83\n",
      "696     13.43\n",
      "789     11.71\n",
      "891     13.67\n",
      "904     13.99\n",
      "941     13.47\n",
      "960     11.71\n",
      "984     11.12\n",
      "1005     7.88\n",
      "1016    10.00\n",
      "1059    13.16\n",
      "1079    13.23\n",
      "1149    17.99\n",
      "1192     6.62\n",
      "1215     6.03\n",
      "1325     6.03\n",
      "1379     5.79\n",
      "1410     8.90\n",
      "1424     8.90\n",
      "1496     9.25\n",
      "1627     7.90\n",
      "1633     7.62\n",
      "1658     7.62\n",
      "1707    17.14\n",
      "1880     9.63\n",
      "1921    13.11\n",
      "1950     6.62\n",
      "1985     7.49\n",
      "1991    13.49\n",
      "2011    10.36\n",
      "2116    17.49\n",
      "2209    18.25\n",
      "2338     7.90\n",
      "2402    13.93\n",
      "2434    14.33\n",
      "2444     6.62\n",
      "Name: Interest_Rate, dtype: float64\n",
      "wedding: 78      17.77\n",
      "273     15.27\n",
      "341      7.90\n",
      "361     16.49\n",
      "408      6.62\n",
      "429      9.91\n",
      "432      7.90\n",
      "453      7.62\n",
      "565     14.09\n",
      "642     10.37\n",
      "678      7.90\n",
      "693     13.72\n",
      "770     12.69\n",
      "808     10.25\n",
      "811     18.49\n",
      "821     12.98\n",
      "885      7.90\n",
      "931      9.99\n",
      "1064    13.11\n",
      "1288     7.62\n",
      "1291     8.00\n",
      "1313     7.90\n",
      "1319     9.91\n",
      "1345    12.12\n",
      "1370     5.42\n",
      "1482    14.42\n",
      "1483    12.84\n",
      "1705    15.31\n",
      "1904    12.12\n",
      "1964    17.88\n",
      "1965    12.42\n",
      "2035    11.86\n",
      "2124    13.11\n",
      "2206    15.31\n",
      "2222     9.63\n",
      "2272    16.29\n",
      "2366    12.21\n",
      "2472    22.45\n",
      "Name: Interest_Rate, dtype: float64\n",
      "medical: 65       7.90\n",
      "234     14.09\n",
      "261     14.65\n",
      "291     15.80\n",
      "294     14.12\n",
      "340      5.42\n",
      "423      7.29\n",
      "837     23.28\n",
      "848      7.90\n",
      "879     13.11\n",
      "1250     6.03\n",
      "1293     6.62\n",
      "1309     7.62\n",
      "1355     6.03\n",
      "1576    13.11\n",
      "1577     7.90\n",
      "1582    16.29\n",
      "1690    14.27\n",
      "1779    13.57\n",
      "1852     6.99\n",
      "1854    14.22\n",
      "1946    17.49\n",
      "2000    10.59\n",
      "2022     7.49\n",
      "2038    19.69\n",
      "2123     7.51\n",
      "2182     6.54\n",
      "2189    13.98\n",
      "2238    13.99\n",
      "2451    16.00\n",
      "Name: Interest_Rate, dtype: float64\n",
      "moving: 10      19.72\n",
      "195      6.17\n",
      "209     13.11\n",
      "228     24.89\n",
      "349     10.99\n",
      "435      5.79\n",
      "497     12.21\n",
      "524     14.84\n",
      "659     14.33\n",
      "756     15.31\n",
      "1046    11.71\n",
      "1152     6.76\n",
      "1183    11.83\n",
      "1347    12.68\n",
      "1420    10.75\n",
      "1711    19.05\n",
      "1729     7.88\n",
      "1870    10.38\n",
      "1929    23.76\n",
      "1960    14.65\n",
      "1974    17.49\n",
      "2082    15.31\n",
      "2106    14.83\n",
      "2167    12.42\n",
      "2251    14.22\n",
      "2374     7.51\n",
      "2383    19.72\n",
      "2415    15.96\n",
      "2469    10.74\n",
      "Name: Interest_Rate, dtype: float64\n",
      "vacation: 24      16.82\n",
      "111      6.03\n",
      "130      9.76\n",
      "575      7.29\n",
      "1006    12.12\n",
      "1134    16.77\n",
      "1141    13.98\n",
      "1197     7.88\n",
      "1200    18.39\n",
      "1302    14.59\n",
      "1308     5.42\n",
      "1349    13.67\n",
      "1688     8.94\n",
      "1802    10.99\n",
      "1806    11.49\n",
      "1850    14.65\n",
      "1895    15.80\n",
      "1952     6.91\n",
      "2033    17.56\n",
      "2054     7.90\n",
      "2367    14.33\n",
      "Name: Interest_Rate, dtype: float64\n",
      "house: 43      21.74\n",
      "339     22.47\n",
      "369     13.11\n",
      "536     15.21\n",
      "806      9.63\n",
      "936      7.90\n",
      "1035    14.96\n",
      "1067     6.03\n",
      "1114    15.96\n",
      "1387    10.37\n",
      "1389    21.67\n",
      "1573    16.32\n",
      "1607     6.62\n",
      "1685    11.83\n",
      "1823    16.82\n",
      "2036    13.06\n",
      "2197    13.06\n",
      "2225     5.99\n",
      "2387    12.12\n",
      "2403    14.09\n",
      "Name: Interest_Rate, dtype: float64\n",
      "educational: 59       8.59\n",
      "300     18.67\n",
      "401     12.29\n",
      "940     12.61\n",
      "974     13.48\n",
      "985      7.75\n",
      "1137    14.61\n",
      "1145     7.88\n",
      "1348     6.76\n",
      "1649     9.88\n",
      "1686    13.75\n",
      "1888    12.87\n",
      "2028     7.40\n",
      "2264     9.63\n",
      "2310     8.94\n",
      "Name: Interest_Rate, dtype: float64\n",
      "renewable_energy: 160      6.92\n",
      "289     10.36\n",
      "1060     7.90\n",
      "2246    14.33\n",
      "Name: Interest_Rate, dtype: float64\n"
     ]
    }
   ],
   "source": [
    "interest_rates = {}\n",
    "\n",
    "# List of unique loan purposes\n",
    "loan_purposes = ['debt_consolidation', 'credit_card', 'other', 'home_improvement',\n",
    "                 'major_purchase', 'small_business', 'car', 'wedding', 'medical',\n",
    "                 'moving', 'vacation', 'house', 'educational', 'renewable_energy']\n",
    "\n",
    "# Populate the dictionary with variables for each loan purpose\n",
    "for purpose in loan_purposes:\n",
    "    interest_rates[purpose] = loan.query(f'Loan_Purpose == \"{purpose}\"').Interest_Rate\n",
    "\n",
    "# Print the resulting dictionary (Interest_Rate series for each Loan_Purpose)\n",
    "for purpose, rates in interest_rates.items():\n",
    "    print(f'{purpose}: {rates}')"
   ]
  },
  {
   "cell_type": "code",
   "execution_count": 35,
   "id": "8732ceda",
   "metadata": {},
   "outputs": [
    {
     "data": {
      "text/plain": [
       "F_onewayResult(statistic=7.487175499510107, pvalue=1.1346364693350775e-14)"
      ]
     },
     "execution_count": 35,
     "metadata": {},
     "output_type": "execute_result"
    }
   ],
   "source": [
    "stats.f_oneway(*interest_rates.values())"
   ]
  },
  {
   "cell_type": "code",
   "execution_count": 36,
   "id": "6e5b8f33",
   "metadata": {},
   "outputs": [],
   "source": [
    "# p_value is less than 0.05 , so we can reject null hypothesis and accept alternate hypothesis. \n",
    "# With 95 percent confidence interval,we can say that Interest rate varies for different purpose of loans."
   ]
  },
  {
   "cell_type": "markdown",
   "id": "50e2fa20-3da9-41b4-ad1c-6ec0c25c8b8f",
   "metadata": {},
   "source": [
    "##### d. There is relationship between FICO scores and Home Ownership. It means that, People with owning home will have high FICO scores."
   ]
  },
  {
   "cell_type": "code",
   "execution_count": 38,
   "id": "ed8075b2",
   "metadata": {},
   "outputs": [
    {
     "data": {
      "text/plain": [
       "Index(['MORTGAGE', 'RENT', 'OWN', 'OTHER'], dtype='object', name='Home_Ownership')"
      ]
     },
     "execution_count": 38,
     "metadata": {},
     "output_type": "execute_result"
    }
   ],
   "source": [
    "loan.Home_Ownership.value_counts().index"
   ]
  },
  {
   "cell_type": "code",
   "execution_count": 39,
   "id": "359568ce",
   "metadata": {},
   "outputs": [],
   "source": [
    "fico_scores = {}"
   ]
  },
  {
   "cell_type": "code",
   "execution_count": 40,
   "id": "9bc9c922",
   "metadata": {},
   "outputs": [],
   "source": [
    "# List of unique home ownership categories\n",
    "home_ownership_categories = ['MORTGAGE', 'RENT', 'OWN', 'OTHER']"
   ]
  },
  {
   "cell_type": "code",
   "execution_count": 41,
   "id": "b01595dc",
   "metadata": {},
   "outputs": [],
   "source": [
    "# Populate the dictionary with variables for each home ownership category\n",
    "for ownership_category in home_ownership_categories:\n",
    "    fico_scores[ownership_category] = loan.query(f'Home_Ownership == \"{ownership_category}\"').FICO_Score"
   ]
  },
  {
   "cell_type": "code",
   "execution_count": 42,
   "id": "1f63fbb0",
   "metadata": {},
   "outputs": [
    {
     "data": {
      "text/plain": [
       "F_onewayResult(statistic=23.067768208374645, pvalue=1.001016973422469e-14)"
      ]
     },
     "execution_count": 42,
     "metadata": {},
     "output_type": "execute_result"
    }
   ],
   "source": [
    "# one-way ANOVA\n",
    "stats.f_oneway(*fico_scores.values())"
   ]
  },
  {
   "cell_type": "code",
   "execution_count": 43,
   "id": "eea7a443",
   "metadata": {},
   "outputs": [],
   "source": [
    "# p_value is less than 0.05 , so we can reject null hypothesis and accept alternate hypothesis. \n",
    "# With 95 percent confidence interval,we can say that There is relationship between FICO scores and Home Ownership."
   ]
  },
  {
   "cell_type": "markdown",
   "id": "f6dce2dc",
   "metadata": {},
   "source": [
    "# BUSINESS PROBLEM - 2"
   ]
  },
  {
   "cell_type": "markdown",
   "id": "3a10af59-6d3c-4c8c-b7bf-d255bc849329",
   "metadata": {},
   "source": [
    "##### BUSINESS PROBLEM: We would like to assess if there is any difference in the average price quotes provided by Mary and Barry."
   ]
  },
  {
   "cell_type": "code",
   "execution_count": 45,
   "id": "36ec73a7",
   "metadata": {},
   "outputs": [],
   "source": [
    "price_quotes=pd.read_csv('Price_Quotes.csv')"
   ]
  },
  {
   "cell_type": "code",
   "execution_count": 46,
   "id": "de3654c6",
   "metadata": {},
   "outputs": [
    {
     "name": "stdout",
     "output_type": "stream",
     "text": [
      "<class 'pandas.core.frame.DataFrame'>\n",
      "RangeIndex: 12 entries, 0 to 11\n",
      "Data columns (total 3 columns):\n",
      " #   Column        Non-Null Count  Dtype\n",
      "---  ------        --------------  -----\n",
      " 0   Order_Number  12 non-null     int64\n",
      " 1   Barry_Price   12 non-null     int64\n",
      " 2   Mary_Price    12 non-null     int64\n",
      "dtypes: int64(3)\n",
      "memory usage: 420.0 bytes\n"
     ]
    }
   ],
   "source": [
    "price_quotes.info()"
   ]
  },
  {
   "cell_type": "code",
   "execution_count": 47,
   "id": "e66f588b",
   "metadata": {},
   "outputs": [
    {
     "data": {
      "text/html": [
       "<div>\n",
       "<style scoped>\n",
       "    .dataframe tbody tr th:only-of-type {\n",
       "        vertical-align: middle;\n",
       "    }\n",
       "\n",
       "    .dataframe tbody tr th {\n",
       "        vertical-align: top;\n",
       "    }\n",
       "\n",
       "    .dataframe thead th {\n",
       "        text-align: right;\n",
       "    }\n",
       "</style>\n",
       "<table border=\"1\" class=\"dataframe\">\n",
       "  <thead>\n",
       "    <tr style=\"text-align: right;\">\n",
       "      <th></th>\n",
       "      <th>Order_Number</th>\n",
       "      <th>Barry_Price</th>\n",
       "      <th>Mary_Price</th>\n",
       "    </tr>\n",
       "  </thead>\n",
       "  <tbody>\n",
       "    <tr>\n",
       "      <th>0</th>\n",
       "      <td>1</td>\n",
       "      <td>126</td>\n",
       "      <td>114</td>\n",
       "    </tr>\n",
       "    <tr>\n",
       "      <th>1</th>\n",
       "      <td>2</td>\n",
       "      <td>110</td>\n",
       "      <td>118</td>\n",
       "    </tr>\n",
       "    <tr>\n",
       "      <th>2</th>\n",
       "      <td>3</td>\n",
       "      <td>138</td>\n",
       "      <td>114</td>\n",
       "    </tr>\n",
       "    <tr>\n",
       "      <th>3</th>\n",
       "      <td>4</td>\n",
       "      <td>142</td>\n",
       "      <td>111</td>\n",
       "    </tr>\n",
       "    <tr>\n",
       "      <th>4</th>\n",
       "      <td>5</td>\n",
       "      <td>146</td>\n",
       "      <td>129</td>\n",
       "    </tr>\n",
       "  </tbody>\n",
       "</table>\n",
       "</div>"
      ],
      "text/plain": [
       "   Order_Number  Barry_Price  Mary_Price\n",
       "0             1          126         114\n",
       "1             2          110         118\n",
       "2             3          138         114\n",
       "3             4          142         111\n",
       "4             5          146         129"
      ]
     },
     "execution_count": 47,
     "metadata": {},
     "output_type": "execute_result"
    }
   ],
   "source": [
    "price_quotes.head()"
   ]
  },
  {
   "cell_type": "code",
   "execution_count": 48,
   "id": "0d2e5a6a",
   "metadata": {},
   "outputs": [
    {
     "data": {
      "text/plain": [
       "Order_Number    0\n",
       "Barry_Price     0\n",
       "Mary_Price      0\n",
       "dtype: int64"
      ]
     },
     "execution_count": 48,
     "metadata": {},
     "output_type": "execute_result"
    }
   ],
   "source": [
    "price_quotes.isnull().sum()"
   ]
  },
  {
   "cell_type": "code",
   "execution_count": 49,
   "id": "ae123a6c",
   "metadata": {},
   "outputs": [
    {
     "data": {
      "text/plain": [
       "TtestResult(statistic=-1.4147436739281787, pvalue=0.17114226132118285, df=22.0)"
      ]
     },
     "execution_count": 49,
     "metadata": {},
     "output_type": "execute_result"
    }
   ],
   "source": [
    "stats.ttest_ind(price_quotes.Mary_Price,price_quotes.Barry_Price)"
   ]
  },
  {
   "cell_type": "code",
   "execution_count": 50,
   "id": "6d5aaae7",
   "metadata": {},
   "outputs": [],
   "source": [
    "# pvalue is greater than 0.05, we cannot reject null hypothesis. With 95 percent confidence interval,\n",
    "# we cannot say that there is difference in the average price quotes provided by Mary and Barry with the help of this data ."
   ]
  },
  {
   "cell_type": "markdown",
   "id": "299c92e8",
   "metadata": {},
   "source": [
    "# BUSINESS PROBLEM-3"
   ]
  },
  {
   "cell_type": "code",
   "execution_count": 51,
   "id": "9784d363",
   "metadata": {},
   "outputs": [],
   "source": [
    "data = pd.read_csv('Treatment_Facility.csv')"
   ]
  },
  {
   "cell_type": "markdown",
   "id": "760d0524-15f7-4681-95ab-94b0fea5d370",
   "metadata": {},
   "source": [
    "##### Determine what effect, if any, the reengineering effort had on the incidence behavioral problems and staff turnover. i.e To determine if the reengineering effort changed the critical incidence rate. Is there evidence that the critical incidence rate improved?"
   ]
  },
  {
   "cell_type": "code",
   "execution_count": 53,
   "id": "1ef908a5",
   "metadata": {},
   "outputs": [
    {
     "name": "stdout",
     "output_type": "stream",
     "text": [
      "<class 'pandas.core.frame.DataFrame'>\n",
      "RangeIndex: 20 entries, 0 to 19\n",
      "Data columns (total 5 columns):\n",
      " #   Column             Non-Null Count  Dtype  \n",
      "---  ------             --------------  -----  \n",
      " 0   Month              20 non-null     int64  \n",
      " 1   Reengineer         20 non-null     object \n",
      " 2   Employee_Turnover  20 non-null     float64\n",
      " 3   VAR4               20 non-null     float64\n",
      " 4   VAR5               20 non-null     float64\n",
      "dtypes: float64(3), int64(1), object(1)\n",
      "memory usage: 932.0+ bytes\n"
     ]
    }
   ],
   "source": [
    "data.info()"
   ]
  },
  {
   "cell_type": "code",
   "execution_count": 54,
   "id": "30652416",
   "metadata": {},
   "outputs": [
    {
     "data": {
      "text/html": [
       "<div>\n",
       "<style scoped>\n",
       "    .dataframe tbody tr th:only-of-type {\n",
       "        vertical-align: middle;\n",
       "    }\n",
       "\n",
       "    .dataframe tbody tr th {\n",
       "        vertical-align: top;\n",
       "    }\n",
       "\n",
       "    .dataframe thead th {\n",
       "        text-align: right;\n",
       "    }\n",
       "</style>\n",
       "<table border=\"1\" class=\"dataframe\">\n",
       "  <thead>\n",
       "    <tr style=\"text-align: right;\">\n",
       "      <th></th>\n",
       "      <th>Month</th>\n",
       "      <th>Reengineer</th>\n",
       "      <th>Employee_Turnover</th>\n",
       "      <th>VAR4</th>\n",
       "      <th>VAR5</th>\n",
       "    </tr>\n",
       "  </thead>\n",
       "  <tbody>\n",
       "    <tr>\n",
       "      <th>0</th>\n",
       "      <td>1</td>\n",
       "      <td>Prior</td>\n",
       "      <td>0.0000</td>\n",
       "      <td>24.390244</td>\n",
       "      <td>42.682927</td>\n",
       "    </tr>\n",
       "    <tr>\n",
       "      <th>1</th>\n",
       "      <td>2</td>\n",
       "      <td>Prior</td>\n",
       "      <td>6.0606</td>\n",
       "      <td>19.354839</td>\n",
       "      <td>25.806452</td>\n",
       "    </tr>\n",
       "    <tr>\n",
       "      <th>2</th>\n",
       "      <td>3</td>\n",
       "      <td>Prior</td>\n",
       "      <td>12.1212</td>\n",
       "      <td>35.087719</td>\n",
       "      <td>146.198830</td>\n",
       "    </tr>\n",
       "    <tr>\n",
       "      <th>3</th>\n",
       "      <td>4</td>\n",
       "      <td>Prior</td>\n",
       "      <td>3.3333</td>\n",
       "      <td>18.404908</td>\n",
       "      <td>110.429448</td>\n",
       "    </tr>\n",
       "    <tr>\n",
       "      <th>4</th>\n",
       "      <td>5</td>\n",
       "      <td>Prior</td>\n",
       "      <td>12.9032</td>\n",
       "      <td>17.964072</td>\n",
       "      <td>23.952096</td>\n",
       "    </tr>\n",
       "  </tbody>\n",
       "</table>\n",
       "</div>"
      ],
      "text/plain": [
       "   Month Reengineer  Employee_Turnover       VAR4        VAR5\n",
       "0      1      Prior             0.0000  24.390244   42.682927\n",
       "1      2      Prior             6.0606  19.354839   25.806452\n",
       "2      3      Prior            12.1212  35.087719  146.198830\n",
       "3      4      Prior             3.3333  18.404908  110.429448\n",
       "4      5      Prior            12.9032  17.964072   23.952096"
      ]
     },
     "execution_count": 54,
     "metadata": {},
     "output_type": "execute_result"
    }
   ],
   "source": [
    "data.head()"
   ]
  },
  {
   "cell_type": "code",
   "execution_count": 55,
   "id": "55a558f0",
   "metadata": {},
   "outputs": [
    {
     "data": {
      "text/plain": [
       "Month                0\n",
       "Reengineer           0\n",
       "Employee_Turnover    0\n",
       "VAR4                 0\n",
       "VAR5                 0\n",
       "dtype: int64"
      ]
     },
     "execution_count": 55,
     "metadata": {},
     "output_type": "execute_result"
    }
   ],
   "source": [
    "data.isnull().sum()"
   ]
  },
  {
   "cell_type": "code",
   "execution_count": 56,
   "id": "423b26cb",
   "metadata": {},
   "outputs": [],
   "source": [
    "data=data.rename(columns={'VAR4':'TRFF','VAR5':'CI'})"
   ]
  },
  {
   "cell_type": "markdown",
   "id": "cf9584d6-9ec9-49c6-942b-931a5b487727",
   "metadata": {},
   "source": [
    "##### a. is there any effect in staff turnover"
   ]
  },
  {
   "cell_type": "code",
   "execution_count": 58,
   "id": "b7a3189f",
   "metadata": {},
   "outputs": [],
   "source": [
    "prior_turnover=data.query('Reengineer==\"Prior\"').Employee_Turnover\n",
    "post_turnover=data.query('Reengineer==\"Post\"').Employee_Turnover"
   ]
  },
  {
   "cell_type": "code",
   "execution_count": 59,
   "id": "addb4fca",
   "metadata": {},
   "outputs": [
    {
     "data": {
      "text/plain": [
       "TtestResult(statistic=-1.770306704753604, pvalue=0.09361109345535304, df=18.0)"
      ]
     },
     "execution_count": 59,
     "metadata": {},
     "output_type": "execute_result"
    }
   ],
   "source": [
    "stats.ttest_ind(prior_turnover,post_turnover)"
   ]
  },
  {
   "cell_type": "code",
   "execution_count": 60,
   "id": "4d83784e",
   "metadata": {},
   "outputs": [],
   "source": [
    "# pvalue is greater than 0.05, we cannot reject null hypothesis. \n",
    "# With 95 percent confidence interval,we cannot say that there is effect in staff turnover with this data."
   ]
  },
  {
   "cell_type": "markdown",
   "id": "565d64d9-ac94-4f57-919a-b9fd2e7fb826",
   "metadata": {},
   "source": [
    "##### b.if the reengineering effort changed the critical incidence rate."
   ]
  },
  {
   "cell_type": "code",
   "execution_count": 62,
   "id": "a3161f84",
   "metadata": {},
   "outputs": [],
   "source": [
    "prior_CI=data.query('Reengineer==\"Prior\"').CI\n",
    "post_CI=data.query('Reengineer==\"Post\"').CI"
   ]
  },
  {
   "cell_type": "code",
   "execution_count": 63,
   "id": "312190b4",
   "metadata": {},
   "outputs": [
    {
     "data": {
      "text/plain": [
       "TtestResult(statistic=1.627914425352865, pvalue=0.12091989189884148, df=18.0)"
      ]
     },
     "execution_count": 63,
     "metadata": {},
     "output_type": "execute_result"
    }
   ],
   "source": [
    "stats.ttest_ind(prior_CI,post_CI)"
   ]
  },
  {
   "cell_type": "code",
   "execution_count": 64,
   "id": "03d974ed",
   "metadata": {},
   "outputs": [],
   "source": [
    "# pvalue is greater than 0.05, we cannot reject null hypothesis. With 95 percent confidence interval,\n",
    "# we cannot say that the reengineering effort changed the critical incidence rate wuth this data."
   ]
  },
  {
   "cell_type": "markdown",
   "id": "450041ed",
   "metadata": {},
   "source": [
    "# BUSINESS PROBLEM-4"
   ]
  },
  {
   "cell_type": "code",
   "execution_count": 65,
   "id": "fdd30797",
   "metadata": {},
   "outputs": [],
   "source": [
    "priority_assessment = pd.read_csv('Priority_Assessment.csv')"
   ]
  },
  {
   "cell_type": "code",
   "execution_count": 66,
   "id": "d3e3b20e",
   "metadata": {},
   "outputs": [
    {
     "data": {
      "text/html": [
       "<div>\n",
       "<style scoped>\n",
       "    .dataframe tbody tr th:only-of-type {\n",
       "        vertical-align: middle;\n",
       "    }\n",
       "\n",
       "    .dataframe tbody tr th {\n",
       "        vertical-align: top;\n",
       "    }\n",
       "\n",
       "    .dataframe thead th {\n",
       "        text-align: right;\n",
       "    }\n",
       "</style>\n",
       "<table border=\"1\" class=\"dataframe\">\n",
       "  <thead>\n",
       "    <tr style=\"text-align: right;\">\n",
       "      <th></th>\n",
       "      <th>Days</th>\n",
       "      <th>Priority</th>\n",
       "    </tr>\n",
       "  </thead>\n",
       "  <tbody>\n",
       "    <tr>\n",
       "      <th>0</th>\n",
       "      <td>3.3</td>\n",
       "      <td>High</td>\n",
       "    </tr>\n",
       "    <tr>\n",
       "      <th>1</th>\n",
       "      <td>7.9</td>\n",
       "      <td>Medium</td>\n",
       "    </tr>\n",
       "    <tr>\n",
       "      <th>2</th>\n",
       "      <td>0.3</td>\n",
       "      <td>High</td>\n",
       "    </tr>\n",
       "    <tr>\n",
       "      <th>3</th>\n",
       "      <td>0.7</td>\n",
       "      <td>Medium</td>\n",
       "    </tr>\n",
       "    <tr>\n",
       "      <th>4</th>\n",
       "      <td>8.6</td>\n",
       "      <td>Medium</td>\n",
       "    </tr>\n",
       "  </tbody>\n",
       "</table>\n",
       "</div>"
      ],
      "text/plain": [
       "   Days Priority\n",
       "0   3.3     High\n",
       "1   7.9   Medium\n",
       "2   0.3     High\n",
       "3   0.7   Medium\n",
       "4   8.6   Medium"
      ]
     },
     "execution_count": 66,
     "metadata": {},
     "output_type": "execute_result"
    }
   ],
   "source": [
    "priority_assessment.head()"
   ]
  },
  {
   "cell_type": "code",
   "execution_count": 67,
   "id": "1b236f21",
   "metadata": {},
   "outputs": [
    {
     "name": "stdout",
     "output_type": "stream",
     "text": [
      "<class 'pandas.core.frame.DataFrame'>\n",
      "RangeIndex: 642 entries, 0 to 641\n",
      "Data columns (total 2 columns):\n",
      " #   Column    Non-Null Count  Dtype  \n",
      "---  ------    --------------  -----  \n",
      " 0   Days      642 non-null    float64\n",
      " 1   Priority  642 non-null    object \n",
      "dtypes: float64(1), object(1)\n",
      "memory usage: 10.2+ KB\n"
     ]
    }
   ],
   "source": [
    "priority_assessment.info()"
   ]
  },
  {
   "cell_type": "code",
   "execution_count": 68,
   "id": "348c558f",
   "metadata": {},
   "outputs": [
    {
     "data": {
      "text/plain": [
       "Days        0\n",
       "Priority    0\n",
       "dtype: int64"
      ]
     },
     "execution_count": 68,
     "metadata": {},
     "output_type": "execute_result"
    }
   ],
   "source": [
    "priority_assessment.isnull().sum()"
   ]
  },
  {
   "cell_type": "markdown",
   "id": "8438106a-5fc3-48da-9de0-e3416ba3a036",
   "metadata": {},
   "source": [
    "##### We will focus on the prioritization system. If the system is working, then high priority jobs, on average, should be completed more quickly than medium priority jobs, and medium priority jobs should be completed more quickly than low priority jobs. Use the data provided to determine whether this is, in fact, occurring."
   ]
  },
  {
   "cell_type": "code",
   "execution_count": 70,
   "id": "bd71b24b",
   "metadata": {},
   "outputs": [],
   "source": [
    "High=priority_assessment.query('Priority==\"High\"').Days\n",
    "Medium=priority_assessment.query('Priority==\"Medium\"').Days\n",
    "Low=priority_assessment.query('Priority==\"Low\"').Days"
   ]
  },
  {
   "cell_type": "code",
   "execution_count": 71,
   "id": "1bd2622d",
   "metadata": {},
   "outputs": [
    {
     "data": {
      "text/plain": [
       "F_onewayResult(statistic=1.812311010076072, pvalue=0.16411459461716182)"
      ]
     },
     "execution_count": 71,
     "metadata": {},
     "output_type": "execute_result"
    }
   ],
   "source": [
    "stats.f_oneway(High,Medium,Low)"
   ]
  },
  {
   "cell_type": "markdown",
   "id": "ddb9891a",
   "metadata": {},
   "source": [
    "# BUSINESS PROBLEM-5"
   ]
  },
  {
   "cell_type": "code",
   "execution_count": 128,
   "id": "dcfa36ab",
   "metadata": {},
   "outputs": [],
   "source": [
    "Films = pd.read_csv('Films.csv')"
   ]
  },
  {
   "cell_type": "code",
   "execution_count": 129,
   "id": "47e7f364",
   "metadata": {},
   "outputs": [
    {
     "name": "stdout",
     "output_type": "stream",
     "text": [
      "<class 'pandas.core.frame.DataFrame'>\n",
      "RangeIndex: 330 entries, 0 to 329\n",
      "Data columns (total 11 columns):\n",
      " #   Column          Non-Null Count  Dtype  \n",
      "---  ------          --------------  -----  \n",
      " 0   _rowstate_      330 non-null    int64  \n",
      " 1   Movie           330 non-null    object \n",
      " 2   Gender          330 non-null    object \n",
      " 3   Marital_Status  328 non-null    object \n",
      " 4   Sinage          328 non-null    float64\n",
      " 5   Parking         328 non-null    float64\n",
      " 6   Clean           327 non-null    float64\n",
      " 7   Overall         328 non-null    float64\n",
      " 8   Age             328 non-null    float64\n",
      " 9   Income          314 non-null    float64\n",
      " 10  Hear_About      323 non-null    object \n",
      "dtypes: float64(6), int64(1), object(4)\n",
      "memory usage: 28.5+ KB\n"
     ]
    }
   ],
   "source": [
    "Films.info()"
   ]
  },
  {
   "cell_type": "code",
   "execution_count": 74,
   "id": "0c12c2cb",
   "metadata": {},
   "outputs": [
    {
     "data": {
      "text/plain": [
       "_rowstate_         0\n",
       "Movie              0\n",
       "Gender             0\n",
       "Marital_Status     2\n",
       "Sinage             2\n",
       "Parking            2\n",
       "Clean              3\n",
       "Overall            2\n",
       "Age                2\n",
       "Income            16\n",
       "Hear_About         7\n",
       "dtype: int64"
      ]
     },
     "execution_count": 74,
     "metadata": {},
     "output_type": "execute_result"
    }
   ],
   "source": [
    "Films.isnull().sum()"
   ]
  },
  {
   "cell_type": "code",
   "execution_count": 75,
   "id": "40cae494",
   "metadata": {},
   "outputs": [
    {
     "data": {
      "text/plain": [
       "(330, 11)"
      ]
     },
     "execution_count": 75,
     "metadata": {},
     "output_type": "execute_result"
    }
   ],
   "source": [
    "Films.shape"
   ]
  },
  {
   "cell_type": "code",
   "execution_count": 76,
   "id": "6e50ade8",
   "metadata": {},
   "outputs": [
    {
     "data": {
      "text/plain": [
       "Gender\n",
       "2         194\n",
       "1         104\n",
       "Female     19\n",
       "Male       13\n",
       "Name: count, dtype: int64"
      ]
     },
     "execution_count": 76,
     "metadata": {},
     "output_type": "execute_result"
    }
   ],
   "source": [
    "Films.Gender.value_counts()"
   ]
  },
  {
   "cell_type": "code",
   "execution_count": 149,
   "id": "783b993d",
   "metadata": {},
   "outputs": [],
   "source": [
    "Films.Gender=np.where((Films.Gender == 'Male') | (Films.Gender == '1'),\"Male\",\"Female\")"
   ]
  },
  {
   "cell_type": "code",
   "execution_count": 150,
   "id": "69b45ef7",
   "metadata": {},
   "outputs": [
    {
     "data": {
      "text/plain": [
       "Marital_Status\n",
       "2          208\n",
       "1           88\n",
       "Single      18\n",
       "Married     12\n",
       "Slngle       2\n",
       "Name: count, dtype: int64"
      ]
     },
     "execution_count": 150,
     "metadata": {},
     "output_type": "execute_result"
    }
   ],
   "source": [
    "Films.Marital_Status.value_counts()"
   ]
  },
  {
   "cell_type": "code",
   "execution_count": 151,
   "id": "314803e7",
   "metadata": {},
   "outputs": [],
   "source": [
    "Films.Marital_Status=np.where((Films.Marital_Status=='1') | (Films.Marital_Status=='Married') ,\"Married\",\"Single\" )"
   ]
  },
  {
   "cell_type": "code",
   "execution_count": 80,
   "id": "05df8686",
   "metadata": {},
   "outputs": [],
   "source": [
    "for i in Films.columns:\n",
    "    Films[i]=Films[i].fillna(Films[i].mode()[0]) "
   ]
  },
  {
   "cell_type": "code",
   "execution_count": 81,
   "id": "c51c692a",
   "metadata": {},
   "outputs": [
    {
     "data": {
      "text/plain": [
       "_rowstate_        0\n",
       "Movie             0\n",
       "Gender            0\n",
       "Marital_Status    0\n",
       "Sinage            0\n",
       "Parking           0\n",
       "Clean             0\n",
       "Overall           0\n",
       "Age               0\n",
       "Income            0\n",
       "Hear_About        0\n",
       "dtype: int64"
      ]
     },
     "execution_count": 81,
     "metadata": {},
     "output_type": "execute_result"
    }
   ],
   "source": [
    "Films.isnull().sum()"
   ]
  },
  {
   "cell_type": "markdown",
   "id": "87f84d08-65ba-43bc-b205-51c407e98ed4",
   "metadata": {},
   "source": [
    "##### a) What is the overall level of customer satisfaction?"
   ]
  },
  {
   "cell_type": "code",
   "execution_count": 83,
   "id": "6f091be0",
   "metadata": {},
   "outputs": [],
   "source": [
    "mean=Films.Overall.mean()\n",
    "std=Films.Overall.std()\n",
    "SE=std/(np.sqrt(Films.shape[0]))"
   ]
  },
  {
   "cell_type": "code",
   "execution_count": 84,
   "id": "422e1df6",
   "metadata": {},
   "outputs": [
    {
     "name": "stdout",
     "output_type": "stream",
     "text": [
      "1.5469994901816928 1.6954247522425494\n"
     ]
    }
   ],
   "source": [
    "print(mean-(1.96*SE),mean+(1.96*SE))"
   ]
  },
  {
   "cell_type": "code",
   "execution_count": 85,
   "id": "81ae116e",
   "metadata": {},
   "outputs": [],
   "source": [
    "# This is the range level of customer satisfaction"
   ]
  },
  {
   "cell_type": "markdown",
   "id": "d13fbc43-7158-4839-883a-51f35f52e315",
   "metadata": {},
   "source": [
    "##### b) What factors are linked to satisfaction?"
   ]
  },
  {
   "cell_type": "code",
   "execution_count": 87,
   "id": "60e7c36b",
   "metadata": {},
   "outputs": [
    {
     "data": {
      "text/plain": [
       "Movie\n",
       "Willy Wonka                161\n",
       "Ferris Buellers Day Off    137\n",
       "Old School                  32\n",
       "Name: count, dtype: int64"
      ]
     },
     "execution_count": 87,
     "metadata": {},
     "output_type": "execute_result"
    }
   ],
   "source": [
    "# factor 1 = Movie\n",
    "Films.Movie.value_counts()"
   ]
  },
  {
   "cell_type": "code",
   "execution_count": 88,
   "id": "7b819b57",
   "metadata": {},
   "outputs": [],
   "source": [
    "Willy_Wonka=Films.query('Movie==\"Willy Wonka\"').Overall\n",
    "Ferris_Buellers_Day_Off=Films.query('Movie==\"Ferris Buellers Day Off\"').Overall\n",
    "Old_School=Films.query('Movie==\"Old School\"').Overall"
   ]
  },
  {
   "cell_type": "code",
   "execution_count": 89,
   "id": "1b043a55",
   "metadata": {
    "scrolled": true
   },
   "outputs": [
    {
     "data": {
      "text/plain": [
       "F_onewayResult(statistic=1.335243752886233, pvalue=0.2645245972839759)"
      ]
     },
     "execution_count": 89,
     "metadata": {},
     "output_type": "execute_result"
    }
   ],
   "source": [
    "stats.f_oneway(Willy_Wonka,Ferris_Buellers_Day_Off,Old_School)"
   ]
  },
  {
   "cell_type": "code",
   "execution_count": 90,
   "id": "678b1069",
   "metadata": {},
   "outputs": [],
   "source": [
    "# pvalue is greater than 0.05, we cannot reject null hypothesis . \n",
    "# With 95 percent confidence interval,we cannot say that Movie is a factor linked to satisfaction with this data."
   ]
  },
  {
   "cell_type": "code",
   "execution_count": 91,
   "id": "9a42d455",
   "metadata": {},
   "outputs": [],
   "source": [
    "# factor 2 = Gender\n",
    "Male=Films.query('Gender==\"Male\"').Overall\n",
    "Female=Films.query('Gender==\"Female\"').Overall"
   ]
  },
  {
   "cell_type": "code",
   "execution_count": 92,
   "id": "1935c85f",
   "metadata": {},
   "outputs": [
    {
     "data": {
      "text/plain": [
       "TtestResult(statistic=1.393621669674226, pvalue=0.16437541932112798, df=328.0)"
      ]
     },
     "execution_count": 92,
     "metadata": {},
     "output_type": "execute_result"
    }
   ],
   "source": [
    "stats.ttest_ind(Male,Female)"
   ]
  },
  {
   "cell_type": "code",
   "execution_count": 93,
   "id": "c66bde77",
   "metadata": {},
   "outputs": [],
   "source": [
    "# pvalue is greater than 0.05,so, we cannot reject null hypothesis . \n",
    "# With 95 percent confidence interval,we cannot say that Gender is a factor linked to satisfaction with this data."
   ]
  },
  {
   "cell_type": "code",
   "execution_count": 94,
   "id": "fb7ea010",
   "metadata": {},
   "outputs": [],
   "source": [
    "# factor 3 = Marital_Status\n",
    "Married=Films.query('Marital_Status==\"Married\"').Overall\n",
    "Single=Films.query('Marital_Status==\"Single\"').Overall"
   ]
  },
  {
   "cell_type": "code",
   "execution_count": 95,
   "id": "55edd74a",
   "metadata": {},
   "outputs": [
    {
     "data": {
      "text/plain": [
       "TtestResult(statistic=0.7171640309514444, pvalue=0.47378328196635067, df=328.0)"
      ]
     },
     "execution_count": 95,
     "metadata": {},
     "output_type": "execute_result"
    }
   ],
   "source": [
    "stats.ttest_ind(Single,Married)"
   ]
  },
  {
   "cell_type": "code",
   "execution_count": 96,
   "id": "33b500d3",
   "metadata": {},
   "outputs": [],
   "source": [
    "# p-value=0.47378328196635067,which is greater than 0.05,so, we cannot reject null hypothesis . \n",
    "# With 95 percent confidence interval,we cannot say that Marital_status is a factor linked to satisfaction with this data."
   ]
  },
  {
   "cell_type": "code",
   "execution_count": 97,
   "id": "ce08cf26",
   "metadata": {},
   "outputs": [
    {
     "data": {
      "text/plain": [
       "PearsonRResult(statistic=0.38210280422395665, pvalue=6.501065434766993e-13)"
      ]
     },
     "execution_count": 97,
     "metadata": {},
     "output_type": "execute_result"
    }
   ],
   "source": [
    "# factor 4 = Sinage\n",
    "stats.pearsonr(Films.Sinage,Films.Overall)"
   ]
  },
  {
   "cell_type": "code",
   "execution_count": 98,
   "id": "ee926b89",
   "metadata": {},
   "outputs": [],
   "source": [
    "# pvalue is less than 0.05,we can reject null hypothesis .\n",
    "# With 95 percent confidence interval,we can say that Sinage is a factor linked to satisfaction with this data."
   ]
  },
  {
   "cell_type": "code",
   "execution_count": 99,
   "id": "6088f889",
   "metadata": {},
   "outputs": [
    {
     "data": {
      "text/plain": [
       "PearsonRResult(statistic=0.5144289487855273, pvalue=1.0840276087790176e-23)"
      ]
     },
     "execution_count": 99,
     "metadata": {},
     "output_type": "execute_result"
    }
   ],
   "source": [
    "# factor 5 = Parking\n",
    "stats.pearsonr(Films.Parking,Films.Overall)"
   ]
  },
  {
   "cell_type": "code",
   "execution_count": 100,
   "id": "6d6f0f50",
   "metadata": {},
   "outputs": [],
   "source": [
    "# pvalue is less than 0.05,so, we can reject null hypothesis .\n",
    "# With 95 percent confidence interval,we can say that Parking is a factor linked to satisfaction with this data"
   ]
  },
  {
   "cell_type": "code",
   "execution_count": 101,
   "id": "b1f0285d",
   "metadata": {},
   "outputs": [
    {
     "data": {
      "text/plain": [
       "PearsonRResult(statistic=0.3508222789070923, pvalue=5.437550007440007e-11)"
      ]
     },
     "execution_count": 101,
     "metadata": {},
     "output_type": "execute_result"
    }
   ],
   "source": [
    "# factor 6 = Clean\n",
    "stats.pearsonr(Films.Clean,Films.Overall)"
   ]
  },
  {
   "cell_type": "code",
   "execution_count": 102,
   "id": "e906320e",
   "metadata": {},
   "outputs": [],
   "source": [
    "# pvalue is less than 0.05,so, we can reject null hypothesis . \n",
    "# With 95 percent confidence interval,we can say that Clean is a factor linked to satisfaction with this data."
   ]
  },
  {
   "cell_type": "code",
   "execution_count": 103,
   "id": "12e24680",
   "metadata": {},
   "outputs": [
    {
     "data": {
      "text/plain": [
       "Age\n",
       "2.0    177\n",
       "3.0    117\n",
       "1.0     26\n",
       "4.0     10\n",
       "Name: count, dtype: int64"
      ]
     },
     "execution_count": 103,
     "metadata": {},
     "output_type": "execute_result"
    }
   ],
   "source": [
    "# factor 7 = Age\n",
    "Films.Age.value_counts()"
   ]
  },
  {
   "cell_type": "code",
   "execution_count": 105,
   "id": "3764f0d3",
   "metadata": {},
   "outputs": [],
   "source": [
    "one=Films.query('Age==1').Overall\n",
    "two=Films.query('Age==2').Overall\n",
    "three=Films.query('Age==3').Overall\n",
    "four=Films.query('Age==4').Overall"
   ]
  },
  {
   "cell_type": "code",
   "execution_count": 106,
   "id": "139dfdbd",
   "metadata": {},
   "outputs": [
    {
     "data": {
      "text/plain": [
       "1.5384615384615385"
      ]
     },
     "execution_count": 106,
     "metadata": {},
     "output_type": "execute_result"
    }
   ],
   "source": [
    "one.mean()"
   ]
  },
  {
   "cell_type": "code",
   "execution_count": 107,
   "id": "4ddf0c46",
   "metadata": {},
   "outputs": [
    {
     "data": {
      "text/plain": [
       "1.6779661016949152"
      ]
     },
     "execution_count": 107,
     "metadata": {},
     "output_type": "execute_result"
    }
   ],
   "source": [
    "two.mean()"
   ]
  },
  {
   "cell_type": "code",
   "execution_count": 108,
   "id": "4abdc797",
   "metadata": {},
   "outputs": [
    {
     "data": {
      "text/plain": [
       "1.547008547008547"
      ]
     },
     "execution_count": 108,
     "metadata": {},
     "output_type": "execute_result"
    }
   ],
   "source": [
    "three.mean()"
   ]
  },
  {
   "cell_type": "code",
   "execution_count": 109,
   "id": "10cfa558",
   "metadata": {},
   "outputs": [
    {
     "data": {
      "text/plain": [
       "1.7"
      ]
     },
     "execution_count": 109,
     "metadata": {},
     "output_type": "execute_result"
    }
   ],
   "source": [
    "four.mean()"
   ]
  },
  {
   "cell_type": "code",
   "execution_count": 110,
   "id": "4fda3c49",
   "metadata": {},
   "outputs": [
    {
     "data": {
      "text/plain": [
       "F_onewayResult(statistic=1.0249927945692117, pvalue=0.3816737451872579)"
      ]
     },
     "execution_count": 110,
     "metadata": {},
     "output_type": "execute_result"
    }
   ],
   "source": [
    "stats.f_oneway(one,two,three,four)"
   ]
  },
  {
   "cell_type": "code",
   "execution_count": 111,
   "id": "0f6d871b",
   "metadata": {},
   "outputs": [],
   "source": [
    "# pvalue which is greater than 0.05,so, we cannot reject null hypothesis . \n",
    "# With 95 percent confidence interval,we cannot say that Age is a factor linked to satisfaction with this data"
   ]
  },
  {
   "cell_type": "code",
   "execution_count": 112,
   "id": "3c71fa45",
   "metadata": {},
   "outputs": [
    {
     "data": {
      "text/plain": [
       "Income\n",
       "1.0    158\n",
       "3.0     90\n",
       "2.0     82\n",
       "Name: count, dtype: int64"
      ]
     },
     "execution_count": 112,
     "metadata": {},
     "output_type": "execute_result"
    }
   ],
   "source": [
    "# factor 8= Income\n",
    "Films.Income.value_counts()"
   ]
  },
  {
   "cell_type": "code",
   "execution_count": 113,
   "id": "4b418031",
   "metadata": {},
   "outputs": [],
   "source": [
    "income1=Films.query('Income==1').Overall\n",
    "income2=Films.query('Income==2').Overall\n",
    "income3=Films.query('Income==3').Overall"
   ]
  },
  {
   "cell_type": "code",
   "execution_count": 114,
   "id": "4fb8cbe5",
   "metadata": {},
   "outputs": [
    {
     "data": {
      "text/plain": [
       "F_onewayResult(statistic=0.16488481054397225, pvalue=0.8480618362664597)"
      ]
     },
     "execution_count": 114,
     "metadata": {},
     "output_type": "execute_result"
    }
   ],
   "source": [
    "stats.f_oneway(income1,income2,income3)"
   ]
  },
  {
   "cell_type": "code",
   "execution_count": 115,
   "id": "20c943c6",
   "metadata": {},
   "outputs": [],
   "source": [
    "# pvaluewhich is greater than 0.05,so, we cannot reject null hypothesis . \n",
    "# With 95 percent confidence interval,we cannot say that Income is a factor linked to satisfaction with this data."
   ]
  },
  {
   "cell_type": "code",
   "execution_count": 116,
   "id": "e4d052f9",
   "metadata": {},
   "outputs": [
    {
     "data": {
      "text/plain": [
       "Hear_About\n",
       "5      233\n",
       "4       41\n",
       "1       22\n",
       "3       14\n",
       "2       12\n",
       "2,5      2\n",
       "3,4      2\n",
       "4,5      1\n",
       "1,5      1\n",
       "5,4      1\n",
       "3,5      1\n",
       "Name: count, dtype: int64"
      ]
     },
     "execution_count": 116,
     "metadata": {},
     "output_type": "execute_result"
    }
   ],
   "source": [
    "# factor 9 = Hear_About\n",
    "Films.Hear_About.value_counts()"
   ]
  },
  {
   "cell_type": "code",
   "execution_count": 119,
   "id": "349a3aa3",
   "metadata": {},
   "outputs": [
    {
     "data": {
      "text/plain": [
       "Index(['5', '4', '1', '3', '2', '2,5', '3,4', '4,5', '1,5', '5,4', '3,5'], dtype='object', name='Hear_About')"
      ]
     },
     "execution_count": 119,
     "metadata": {},
     "output_type": "execute_result"
    }
   ],
   "source": [
    "Films.Hear_About.value_counts().index"
   ]
  },
  {
   "cell_type": "code",
   "execution_count": 120,
   "id": "93c9a62b",
   "metadata": {},
   "outputs": [],
   "source": [
    "hear_about_values = ['5', '4', '1', '3', '2', '2,5', '3,4', '4,5', '1,5', '5,4', '3,5']"
   ]
  },
  {
   "cell_type": "code",
   "execution_count": 121,
   "id": "ac8be6f0",
   "metadata": {},
   "outputs": [],
   "source": [
    "hear_about_overall = {}\n",
    "\n",
    "# Populate the dictionary with subsets based on 'Hear_About' values\n",
    "for hear_about_value in hear_about_values:\n",
    "    key = f'Hear_About_{hear_about_value.replace(\",\", \"_\")}'\n",
    "    hear_about_overall[key] = Films.query(f'Hear_About == \"{hear_about_value}\"').Overall"
   ]
  },
  {
   "cell_type": "code",
   "execution_count": 122,
   "id": "f2b30b7c",
   "metadata": {},
   "outputs": [],
   "source": [
    "f_statistic, p_value = stats.f_oneway(*hear_about_overall.values())"
   ]
  },
  {
   "cell_type": "code",
   "execution_count": 123,
   "id": "2175cbfb",
   "metadata": {},
   "outputs": [
    {
     "data": {
      "text/plain": [
       "0.15433478299883888"
      ]
     },
     "execution_count": 123,
     "metadata": {},
     "output_type": "execute_result"
    }
   ],
   "source": [
    "p_value"
   ]
  },
  {
   "cell_type": "code",
   "execution_count": 124,
   "id": "cbd9aa53",
   "metadata": {},
   "outputs": [],
   "source": [
    "# pvalue is greater than 0.05,so, we cannot reject null hypothesis . \n",
    "# With 95 percent confidence interval,we cannot say that Hear_about is a factor linked to satisfaction with this data."
   ]
  },
  {
   "cell_type": "code",
   "execution_count": 125,
   "id": "d6939b4f",
   "metadata": {},
   "outputs": [],
   "source": [
    "# sinage,parking and  are contributing in satisfaction clean are contributing in satisfaction "
   ]
  },
  {
   "cell_type": "markdown",
   "id": "04cc6f90-e71b-48d9-aecc-cdeb7d42a2ad",
   "metadata": {},
   "source": [
    "##### c) What is the demographic profile of Film on the Rocks patrons?"
   ]
  },
  {
   "cell_type": "code",
   "execution_count": 133,
   "id": "c64bdbb8-095c-4dfb-87f1-284461efe8b5",
   "metadata": {},
   "outputs": [
    {
     "data": {
      "text/html": [
       "<div>\n",
       "<style scoped>\n",
       "    .dataframe tbody tr th:only-of-type {\n",
       "        vertical-align: middle;\n",
       "    }\n",
       "\n",
       "    .dataframe tbody tr th {\n",
       "        vertical-align: top;\n",
       "    }\n",
       "\n",
       "    .dataframe thead th {\n",
       "        text-align: right;\n",
       "    }\n",
       "</style>\n",
       "<table border=\"1\" class=\"dataframe\">\n",
       "  <thead>\n",
       "    <tr style=\"text-align: right;\">\n",
       "      <th></th>\n",
       "      <th>_rowstate_</th>\n",
       "      <th>Movie</th>\n",
       "      <th>Gender</th>\n",
       "      <th>Marital_Status</th>\n",
       "      <th>Sinage</th>\n",
       "      <th>Parking</th>\n",
       "      <th>Clean</th>\n",
       "      <th>Overall</th>\n",
       "      <th>Age</th>\n",
       "      <th>Income</th>\n",
       "      <th>Hear_About</th>\n",
       "    </tr>\n",
       "  </thead>\n",
       "  <tbody>\n",
       "    <tr>\n",
       "      <th>0</th>\n",
       "      <td>0</td>\n",
       "      <td>Ferris Buellers Day Off</td>\n",
       "      <td>Female</td>\n",
       "      <td>Married</td>\n",
       "      <td>2.0</td>\n",
       "      <td>2.0</td>\n",
       "      <td>2.0</td>\n",
       "      <td>2.0</td>\n",
       "      <td>3.0</td>\n",
       "      <td>1.0</td>\n",
       "      <td>5</td>\n",
       "    </tr>\n",
       "    <tr>\n",
       "      <th>1</th>\n",
       "      <td>0</td>\n",
       "      <td>Ferris Buellers Day Off</td>\n",
       "      <td>Female</td>\n",
       "      <td>Single</td>\n",
       "      <td>1.0</td>\n",
       "      <td>1.0</td>\n",
       "      <td>1.0</td>\n",
       "      <td>1.0</td>\n",
       "      <td>2.0</td>\n",
       "      <td>1.0</td>\n",
       "      <td>5</td>\n",
       "    </tr>\n",
       "    <tr>\n",
       "      <th>2</th>\n",
       "      <td>0</td>\n",
       "      <td>Ferris Buellers Day Off</td>\n",
       "      <td>Male</td>\n",
       "      <td>Married</td>\n",
       "      <td>2.0</td>\n",
       "      <td>4.0</td>\n",
       "      <td>3.0</td>\n",
       "      <td>2.0</td>\n",
       "      <td>4.0</td>\n",
       "      <td>1.0</td>\n",
       "      <td>5</td>\n",
       "    </tr>\n",
       "    <tr>\n",
       "      <th>3</th>\n",
       "      <td>0</td>\n",
       "      <td>Ferris Buellers Day Off</td>\n",
       "      <td>Female</td>\n",
       "      <td>Married</td>\n",
       "      <td>1.0</td>\n",
       "      <td>3.0</td>\n",
       "      <td>2.0</td>\n",
       "      <td>2.0</td>\n",
       "      <td>4.0</td>\n",
       "      <td>1.0</td>\n",
       "      <td>5</td>\n",
       "    </tr>\n",
       "    <tr>\n",
       "      <th>4</th>\n",
       "      <td>0</td>\n",
       "      <td>Ferris Buellers Day Off</td>\n",
       "      <td>Female</td>\n",
       "      <td>Married</td>\n",
       "      <td>1.0</td>\n",
       "      <td>1.0</td>\n",
       "      <td>1.0</td>\n",
       "      <td>1.0</td>\n",
       "      <td>3.0</td>\n",
       "      <td>3.0</td>\n",
       "      <td>1</td>\n",
       "    </tr>\n",
       "  </tbody>\n",
       "</table>\n",
       "</div>"
      ],
      "text/plain": [
       "   _rowstate_                    Movie  Gender Marital_Status  Sinage  \\\n",
       "0           0  Ferris Buellers Day Off  Female        Married     2.0   \n",
       "1           0  Ferris Buellers Day Off  Female         Single     1.0   \n",
       "2           0  Ferris Buellers Day Off    Male        Married     2.0   \n",
       "3           0  Ferris Buellers Day Off  Female        Married     1.0   \n",
       "4           0  Ferris Buellers Day Off  Female        Married     1.0   \n",
       "\n",
       "   Parking  Clean  Overall  Age  Income Hear_About  \n",
       "0      2.0    2.0      2.0  3.0     1.0          5  \n",
       "1      1.0    1.0      1.0  2.0     1.0          5  \n",
       "2      4.0    3.0      2.0  4.0     1.0          5  \n",
       "3      3.0    2.0      2.0  4.0     1.0          5  \n",
       "4      1.0    1.0      1.0  3.0     3.0          1  "
      ]
     },
     "execution_count": 133,
     "metadata": {},
     "output_type": "execute_result"
    }
   ],
   "source": [
    "Films.head()"
   ]
  },
  {
   "cell_type": "code",
   "execution_count": 145,
   "id": "95b97bb4-96c9-4586-9141-845f625b9d27",
   "metadata": {},
   "outputs": [
    {
     "data": {
      "text/plain": [
       "Index(['_rowstate_', 'Movie', 'Gender', 'Marital_Status', 'Sinage', 'Parking',\n",
       "       'Clean', 'Overall', 'Age', 'Income', 'Hear_About'],\n",
       "      dtype='object')"
      ]
     },
     "execution_count": 145,
     "metadata": {},
     "output_type": "execute_result"
    }
   ],
   "source": [
    "Films.columns"
   ]
  },
  {
   "cell_type": "code",
   "execution_count": 153,
   "id": "1efdbf53-3f3b-4952-8ccc-7aca3c4ab3c4",
   "metadata": {},
   "outputs": [
    {
     "data": {
      "image/png": "[encoded data removed]",
      "text/plain": [
       "<Figure size 640x480 with 1 Axes>"
      ]
     },
     "metadata": {},
     "output_type": "display_data"
    }
   ],
   "source": [
    "# Calculate the percentage of each gender category\n",
    "gender_counts = Films['Gender'].value_counts()\n",
    "total_patrons = Films.shape[0]\n",
    "gender_percentage = (gender_counts / total_patrons) * 100\n",
    "\n",
    "# Plotting the pie chart\n",
    "plt.pie(gender_percentage, labels=gender_percentage.index, autopct='%0.2f %%')\n",
    "plt.title('Gender Distribution of Film on the Rocks Patrons')\n",
    "plt.show()\n"
   ]
  },
  {
   "cell_type": "code",
   "execution_count": 154,
   "id": "ca31f13f-16a4-4b57-a6f1-fd2608b8e255",
   "metadata": {},
   "outputs": [
    {
     "data": {
      "image/png": "[encoded data removed]",
      "text/plain": [
       "<Figure size 640x480 with 1 Axes>"
      ]
     },
     "metadata": {},
     "output_type": "display_data"
    }
   ],
   "source": [
    "# Calculate the percentage of each marital status category\n",
    "marital_status_counts = Films['Marital_Status'].value_counts()\n",
    "total_patrons = Films.shape[0]\n",
    "marital_status_percentage = (marital_status_counts / total_patrons) * 100\n",
    "\n",
    "# Plotting the pie chart\n",
    "plt.pie(marital_status_percentage, labels=marital_status_percentage.index, autopct='%0.2f %%')\n",
    "plt.title('Marital Status Distribution of Film on the Rocks Patrons')\n",
    "plt.show()\n"
   ]
  },
  {
   "cell_type": "code",
   "execution_count": 161,
   "id": "d09de5e9",
   "metadata": {},
   "outputs": [
    {
     "data": {
      "image/png": "[encoded data removed]",
      "text/plain": [
       "<Figure size 640x480 with 1 Axes>"
      ]
     },
     "metadata": {},
     "output_type": "display_data"
    }
   ],
   "source": [
    "# Calculate the percentage of each marital status category\n",
    "marital_status_counts = Films['Marital_Status'].value_counts()\n",
    "total_patrons = Films.shape[0]\n",
    "marital_status_percentage = (marital_status_counts / total_patrons) * 100\n",
    "\n",
    "# Plotting the pie chart\n",
    "plt.pie(marital_status_percentage, labels=marital_status_percentage.index, autopct='%0.2f %%')\n",
    "plt.title('Marital Status Distribution of Film on the Rocks Patrons')\n",
    "plt.show()\n"
   ]
  },
  {
   "cell_type": "code",
   "execution_count": 162,
   "id": "d7665a54",
   "metadata": {},
   "outputs": [
    {
     "data": {
      "image/png": "[encoded data removed]",
      "text/plain": [
       "<Figure size 640x480 with 1 Axes>"
      ]
     },
     "metadata": {},
     "output_type": "display_data"
    }
   ],
   "source": [
    "# Calculate the percentage of each age category\n",
    "age_counts = Films['Age'].value_counts()\n",
    "total_patrons = Films.shape[0]\n",
    "age_percentage = (age_counts / total_patrons) * 100\n",
    "\n",
    "# Plotting the pie chart\n",
    "plt.pie(age_percentage, labels=['13-30', '31-60', '1-12', '60+'], autopct='%0.2f %%')\n",
    "plt.title('Age Distribution of Film on the Rocks Patrons')\n",
    "plt.show()\n"
   ]
  },
  {
   "cell_type": "code",
   "execution_count": 163,
   "id": "6eda960e",
   "metadata": {},
   "outputs": [
    {
     "data": {
      "image/png": "[encoded data removed]",
      "text/plain": [
       "<Figure size 640x480 with 1 Axes>"
      ]
     },
     "metadata": {},
     "output_type": "display_data"
    }
   ],
   "source": [
    "# Calculate the percentage of each income category\n",
    "income_counts = Films['Income'].value_counts()\n",
    "total_patrons = Films.shape[0]\n",
    "income_percentage = (income_counts / total_patrons) * 100\n",
    "\n",
    "# Plotting the pie chart\n",
    "plt.pie(income_percentage, labels=['Less than $50,000', '$100,000+', '$50-$100,000'], autopct='%0.2f %%')\n",
    "plt.title('Income Distribution of Film on the Rocks Patrons')\n",
    "plt.show()\n"
   ]
  },
  {
   "cell_type": "markdown",
   "id": "3af88026-fe70-4a7a-88ee-464d3bc946b2",
   "metadata": {},
   "source": [
    "##### d) In what media outlet(s) should the film series be advertised?"
   ]
  },
  {
   "cell_type": "code",
   "execution_count": 179,
   "id": "a9bef5d7-c1a2-402f-99b5-3904c9522e58",
   "metadata": {
    "scrolled": true
   },
   "outputs": [
    {
     "data": {
      "text/plain": [
       "'5'"
      ]
     },
     "execution_count": 179,
     "metadata": {},
     "output_type": "execute_result"
    }
   ],
   "source": [
    "value = Films['Hear_About'].value_counts().reset_index().iloc[0, 0]\n",
    "value"
   ]
  },
  {
   "cell_type": "code",
   "execution_count": 184,
   "id": "f9ada0aa",
   "metadata": {},
   "outputs": [],
   "source": [
    "# 5 means 'word of mouth'.the film series that should be advertised by 'word of mouth'"
   ]
  }
 ],
 "metadata": {
  "kernelspec": {
   "display_name": "Python 3 (ipykernel)",
   "language": "python",
   "name": "python3"
  },
  "language_info": {
   "codemirror_mode": {
    "name": "ipython",
    "version": 3
   },
   "file_extension": ".py",
   "mimetype": "text/x-python",
   "name": "python",
   "nbconvert_exporter": "python",
   "pygments_lexer": "ipython3",
   "version": "3.11.7"
  }
 },
 "nbformat": 4,
 "nbformat_minor": 5
}
